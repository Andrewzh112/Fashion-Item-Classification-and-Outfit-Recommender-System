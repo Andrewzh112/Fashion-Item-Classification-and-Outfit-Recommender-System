{
  "nbformat": 4,
  "nbformat_minor": 0,
  "metadata": {
    "accelerator": "GPU",
    "colab": {
      "name": "Weekend Test with Bert.ipynb",
      "provenance": [],
      "collapsed_sections": []
    },
    "kernelspec": {
      "display_name": "Python 3",
      "language": "python",
      "name": "python3"
    },
    "language_info": {
      "codemirror_mode": {
        "name": "ipython",
        "version": 3
      },
      "file_extension": ".py",
      "mimetype": "text/x-python",
      "name": "python",
      "nbconvert_exporter": "python",
      "pygments_lexer": "ipython3",
      "version": "3.7.6"
    },
    "widgets": {
      "application/vnd.jupyter.widget-state+json": {
        "a2fbd98518b14aabb02b01811c9eb08e": {
          "model_module": "@jupyter-widgets/controls",
          "model_name": "HBoxModel",
          "state": {
            "_view_name": "HBoxView",
            "_dom_classes": [],
            "_model_name": "HBoxModel",
            "_view_module": "@jupyter-widgets/controls",
            "_model_module_version": "1.5.0",
            "_view_count": null,
            "_view_module_version": "1.5.0",
            "box_style": "",
            "layout": "IPY_MODEL_c5c3cc5ea10449a18930ddbc4061d63a",
            "_model_module": "@jupyter-widgets/controls",
            "children": [
              "IPY_MODEL_0258b21afaa8431090f32549373cbf78",
              "IPY_MODEL_dae634c4092b435ab1fef6ebde943cd4"
            ]
          }
        },
        "c5c3cc5ea10449a18930ddbc4061d63a": {
          "model_module": "@jupyter-widgets/base",
          "model_name": "LayoutModel",
          "state": {
            "_view_name": "LayoutView",
            "grid_template_rows": null,
            "right": null,
            "justify_content": null,
            "_view_module": "@jupyter-widgets/base",
            "overflow": null,
            "_model_module_version": "1.2.0",
            "_view_count": null,
            "flex_flow": null,
            "width": null,
            "min_width": null,
            "border": null,
            "align_items": null,
            "bottom": null,
            "_model_module": "@jupyter-widgets/base",
            "top": null,
            "grid_column": null,
            "overflow_y": null,
            "overflow_x": null,
            "grid_auto_flow": null,
            "grid_area": null,
            "grid_template_columns": null,
            "flex": null,
            "_model_name": "LayoutModel",
            "justify_items": null,
            "grid_row": null,
            "max_height": null,
            "align_content": null,
            "visibility": null,
            "align_self": null,
            "height": null,
            "min_height": null,
            "padding": null,
            "grid_auto_rows": null,
            "grid_gap": null,
            "max_width": null,
            "order": null,
            "_view_module_version": "1.2.0",
            "grid_template_areas": null,
            "object_position": null,
            "object_fit": null,
            "grid_auto_columns": null,
            "margin": null,
            "display": null,
            "left": null
          }
        },
        "0258b21afaa8431090f32549373cbf78": {
          "model_module": "@jupyter-widgets/controls",
          "model_name": "IntProgressModel",
          "state": {
            "_view_name": "ProgressView",
            "style": "IPY_MODEL_8b6d252d84f1451ead99961b0792ff74",
            "_dom_classes": [],
            "description": "Downloading: 100%",
            "_model_name": "IntProgressModel",
            "bar_style": "success",
            "max": 231508,
            "_view_module": "@jupyter-widgets/controls",
            "_model_module_version": "1.5.0",
            "value": 231508,
            "_view_count": null,
            "_view_module_version": "1.5.0",
            "orientation": "horizontal",
            "min": 0,
            "description_tooltip": null,
            "_model_module": "@jupyter-widgets/controls",
            "layout": "IPY_MODEL_11e5e744b992431cabf31ea664772cc9"
          }
        },
        "dae634c4092b435ab1fef6ebde943cd4": {
          "model_module": "@jupyter-widgets/controls",
          "model_name": "HTMLModel",
          "state": {
            "_view_name": "HTMLView",
            "style": "IPY_MODEL_9126357b2d18460fa26a1b0e66004cba",
            "_dom_classes": [],
            "description": "",
            "_model_name": "HTMLModel",
            "placeholder": "​",
            "_view_module": "@jupyter-widgets/controls",
            "_model_module_version": "1.5.0",
            "value": " 232k/232k [00:00&lt;00:00, 301kB/s]",
            "_view_count": null,
            "_view_module_version": "1.5.0",
            "description_tooltip": null,
            "_model_module": "@jupyter-widgets/controls",
            "layout": "IPY_MODEL_0a66f245ebe343308494b01d0dee855a"
          }
        },
        "8b6d252d84f1451ead99961b0792ff74": {
          "model_module": "@jupyter-widgets/controls",
          "model_name": "ProgressStyleModel",
          "state": {
            "_view_name": "StyleView",
            "_model_name": "ProgressStyleModel",
            "description_width": "initial",
            "_view_module": "@jupyter-widgets/base",
            "_model_module_version": "1.5.0",
            "_view_count": null,
            "_view_module_version": "1.2.0",
            "bar_color": null,
            "_model_module": "@jupyter-widgets/controls"
          }
        },
        "11e5e744b992431cabf31ea664772cc9": {
          "model_module": "@jupyter-widgets/base",
          "model_name": "LayoutModel",
          "state": {
            "_view_name": "LayoutView",
            "grid_template_rows": null,
            "right": null,
            "justify_content": null,
            "_view_module": "@jupyter-widgets/base",
            "overflow": null,
            "_model_module_version": "1.2.0",
            "_view_count": null,
            "flex_flow": null,
            "width": null,
            "min_width": null,
            "border": null,
            "align_items": null,
            "bottom": null,
            "_model_module": "@jupyter-widgets/base",
            "top": null,
            "grid_column": null,
            "overflow_y": null,
            "overflow_x": null,
            "grid_auto_flow": null,
            "grid_area": null,
            "grid_template_columns": null,
            "flex": null,
            "_model_name": "LayoutModel",
            "justify_items": null,
            "grid_row": null,
            "max_height": null,
            "align_content": null,
            "visibility": null,
            "align_self": null,
            "height": null,
            "min_height": null,
            "padding": null,
            "grid_auto_rows": null,
            "grid_gap": null,
            "max_width": null,
            "order": null,
            "_view_module_version": "1.2.0",
            "grid_template_areas": null,
            "object_position": null,
            "object_fit": null,
            "grid_auto_columns": null,
            "margin": null,
            "display": null,
            "left": null
          }
        },
        "9126357b2d18460fa26a1b0e66004cba": {
          "model_module": "@jupyter-widgets/controls",
          "model_name": "DescriptionStyleModel",
          "state": {
            "_view_name": "StyleView",
            "_model_name": "DescriptionStyleModel",
            "description_width": "",
            "_view_module": "@jupyter-widgets/base",
            "_model_module_version": "1.5.0",
            "_view_count": null,
            "_view_module_version": "1.2.0",
            "_model_module": "@jupyter-widgets/controls"
          }
        },
        "0a66f245ebe343308494b01d0dee855a": {
          "model_module": "@jupyter-widgets/base",
          "model_name": "LayoutModel",
          "state": {
            "_view_name": "LayoutView",
            "grid_template_rows": null,
            "right": null,
            "justify_content": null,
            "_view_module": "@jupyter-widgets/base",
            "overflow": null,
            "_model_module_version": "1.2.0",
            "_view_count": null,
            "flex_flow": null,
            "width": null,
            "min_width": null,
            "border": null,
            "align_items": null,
            "bottom": null,
            "_model_module": "@jupyter-widgets/base",
            "top": null,
            "grid_column": null,
            "overflow_y": null,
            "overflow_x": null,
            "grid_auto_flow": null,
            "grid_area": null,
            "grid_template_columns": null,
            "flex": null,
            "_model_name": "LayoutModel",
            "justify_items": null,
            "grid_row": null,
            "max_height": null,
            "align_content": null,
            "visibility": null,
            "align_self": null,
            "height": null,
            "min_height": null,
            "padding": null,
            "grid_auto_rows": null,
            "grid_gap": null,
            "max_width": null,
            "order": null,
            "_view_module_version": "1.2.0",
            "grid_template_areas": null,
            "object_position": null,
            "object_fit": null,
            "grid_auto_columns": null,
            "margin": null,
            "display": null,
            "left": null
          }
        },
        "d9e9493590744207bdf0e4600a9e2e98": {
          "model_module": "@jupyter-widgets/controls",
          "model_name": "HBoxModel",
          "state": {
            "_view_name": "HBoxView",
            "_dom_classes": [],
            "_model_name": "HBoxModel",
            "_view_module": "@jupyter-widgets/controls",
            "_model_module_version": "1.5.0",
            "_view_count": null,
            "_view_module_version": "1.5.0",
            "box_style": "",
            "layout": "IPY_MODEL_fc47216ed8524ad08af2b51ffdd512d3",
            "_model_module": "@jupyter-widgets/controls",
            "children": [
              "IPY_MODEL_9d7b112abbc141c08fbc876d0696dd8f",
              "IPY_MODEL_fccd8af4011748b2afdf62ecbdc5d4fc"
            ]
          }
        },
        "fc47216ed8524ad08af2b51ffdd512d3": {
          "model_module": "@jupyter-widgets/base",
          "model_name": "LayoutModel",
          "state": {
            "_view_name": "LayoutView",
            "grid_template_rows": null,
            "right": null,
            "justify_content": null,
            "_view_module": "@jupyter-widgets/base",
            "overflow": null,
            "_model_module_version": "1.2.0",
            "_view_count": null,
            "flex_flow": null,
            "width": null,
            "min_width": null,
            "border": null,
            "align_items": null,
            "bottom": null,
            "_model_module": "@jupyter-widgets/base",
            "top": null,
            "grid_column": null,
            "overflow_y": null,
            "overflow_x": null,
            "grid_auto_flow": null,
            "grid_area": null,
            "grid_template_columns": null,
            "flex": null,
            "_model_name": "LayoutModel",
            "justify_items": null,
            "grid_row": null,
            "max_height": null,
            "align_content": null,
            "visibility": null,
            "align_self": null,
            "height": null,
            "min_height": null,
            "padding": null,
            "grid_auto_rows": null,
            "grid_gap": null,
            "max_width": null,
            "order": null,
            "_view_module_version": "1.2.0",
            "grid_template_areas": null,
            "object_position": null,
            "object_fit": null,
            "grid_auto_columns": null,
            "margin": null,
            "display": null,
            "left": null
          }
        },
        "9d7b112abbc141c08fbc876d0696dd8f": {
          "model_module": "@jupyter-widgets/controls",
          "model_name": "IntProgressModel",
          "state": {
            "_view_name": "ProgressView",
            "style": "IPY_MODEL_1c1f665d3ca344b68d9aa8718bd3a0dd",
            "_dom_classes": [],
            "description": "Downloading: 100%",
            "_model_name": "IntProgressModel",
            "bar_style": "success",
            "max": 433,
            "_view_module": "@jupyter-widgets/controls",
            "_model_module_version": "1.5.0",
            "value": 433,
            "_view_count": null,
            "_view_module_version": "1.5.0",
            "orientation": "horizontal",
            "min": 0,
            "description_tooltip": null,
            "_model_module": "@jupyter-widgets/controls",
            "layout": "IPY_MODEL_fa9c2a33f43641ed855f8248e6008915"
          }
        },
        "fccd8af4011748b2afdf62ecbdc5d4fc": {
          "model_module": "@jupyter-widgets/controls",
          "model_name": "HTMLModel",
          "state": {
            "_view_name": "HTMLView",
            "style": "IPY_MODEL_747144e651fe479197e456b4dec0859e",
            "_dom_classes": [],
            "description": "",
            "_model_name": "HTMLModel",
            "placeholder": "​",
            "_view_module": "@jupyter-widgets/controls",
            "_model_module_version": "1.5.0",
            "value": " 433/433 [00:03&lt;00:00, 142B/s]",
            "_view_count": null,
            "_view_module_version": "1.5.0",
            "description_tooltip": null,
            "_model_module": "@jupyter-widgets/controls",
            "layout": "IPY_MODEL_ce6cf76961a142248a810fca91e7b073"
          }
        },
        "1c1f665d3ca344b68d9aa8718bd3a0dd": {
          "model_module": "@jupyter-widgets/controls",
          "model_name": "ProgressStyleModel",
          "state": {
            "_view_name": "StyleView",
            "_model_name": "ProgressStyleModel",
            "description_width": "initial",
            "_view_module": "@jupyter-widgets/base",
            "_model_module_version": "1.5.0",
            "_view_count": null,
            "_view_module_version": "1.2.0",
            "bar_color": null,
            "_model_module": "@jupyter-widgets/controls"
          }
        },
        "fa9c2a33f43641ed855f8248e6008915": {
          "model_module": "@jupyter-widgets/base",
          "model_name": "LayoutModel",
          "state": {
            "_view_name": "LayoutView",
            "grid_template_rows": null,
            "right": null,
            "justify_content": null,
            "_view_module": "@jupyter-widgets/base",
            "overflow": null,
            "_model_module_version": "1.2.0",
            "_view_count": null,
            "flex_flow": null,
            "width": null,
            "min_width": null,
            "border": null,
            "align_items": null,
            "bottom": null,
            "_model_module": "@jupyter-widgets/base",
            "top": null,
            "grid_column": null,
            "overflow_y": null,
            "overflow_x": null,
            "grid_auto_flow": null,
            "grid_area": null,
            "grid_template_columns": null,
            "flex": null,
            "_model_name": "LayoutModel",
            "justify_items": null,
            "grid_row": null,
            "max_height": null,
            "align_content": null,
            "visibility": null,
            "align_self": null,
            "height": null,
            "min_height": null,
            "padding": null,
            "grid_auto_rows": null,
            "grid_gap": null,
            "max_width": null,
            "order": null,
            "_view_module_version": "1.2.0",
            "grid_template_areas": null,
            "object_position": null,
            "object_fit": null,
            "grid_auto_columns": null,
            "margin": null,
            "display": null,
            "left": null
          }
        },
        "747144e651fe479197e456b4dec0859e": {
          "model_module": "@jupyter-widgets/controls",
          "model_name": "DescriptionStyleModel",
          "state": {
            "_view_name": "StyleView",
            "_model_name": "DescriptionStyleModel",
            "description_width": "",
            "_view_module": "@jupyter-widgets/base",
            "_model_module_version": "1.5.0",
            "_view_count": null,
            "_view_module_version": "1.2.0",
            "_model_module": "@jupyter-widgets/controls"
          }
        },
        "ce6cf76961a142248a810fca91e7b073": {
          "model_module": "@jupyter-widgets/base",
          "model_name": "LayoutModel",
          "state": {
            "_view_name": "LayoutView",
            "grid_template_rows": null,
            "right": null,
            "justify_content": null,
            "_view_module": "@jupyter-widgets/base",
            "overflow": null,
            "_model_module_version": "1.2.0",
            "_view_count": null,
            "flex_flow": null,
            "width": null,
            "min_width": null,
            "border": null,
            "align_items": null,
            "bottom": null,
            "_model_module": "@jupyter-widgets/base",
            "top": null,
            "grid_column": null,
            "overflow_y": null,
            "overflow_x": null,
            "grid_auto_flow": null,
            "grid_area": null,
            "grid_template_columns": null,
            "flex": null,
            "_model_name": "LayoutModel",
            "justify_items": null,
            "grid_row": null,
            "max_height": null,
            "align_content": null,
            "visibility": null,
            "align_self": null,
            "height": null,
            "min_height": null,
            "padding": null,
            "grid_auto_rows": null,
            "grid_gap": null,
            "max_width": null,
            "order": null,
            "_view_module_version": "1.2.0",
            "grid_template_areas": null,
            "object_position": null,
            "object_fit": null,
            "grid_auto_columns": null,
            "margin": null,
            "display": null,
            "left": null
          }
        },
        "4dba4d16b3f343f6a2cccb346714c091": {
          "model_module": "@jupyter-widgets/controls",
          "model_name": "HBoxModel",
          "state": {
            "_view_name": "HBoxView",
            "_dom_classes": [],
            "_model_name": "HBoxModel",
            "_view_module": "@jupyter-widgets/controls",
            "_model_module_version": "1.5.0",
            "_view_count": null,
            "_view_module_version": "1.5.0",
            "box_style": "",
            "layout": "IPY_MODEL_ecce702be0e847e88c6d60c036f4a961",
            "_model_module": "@jupyter-widgets/controls",
            "children": [
              "IPY_MODEL_068e7349d9274c49b80a2181d1f3ec19",
              "IPY_MODEL_580eaa79adac43ccacb1fac8ebe9cd88"
            ]
          }
        },
        "ecce702be0e847e88c6d60c036f4a961": {
          "model_module": "@jupyter-widgets/base",
          "model_name": "LayoutModel",
          "state": {
            "_view_name": "LayoutView",
            "grid_template_rows": null,
            "right": null,
            "justify_content": null,
            "_view_module": "@jupyter-widgets/base",
            "overflow": null,
            "_model_module_version": "1.2.0",
            "_view_count": null,
            "flex_flow": null,
            "width": null,
            "min_width": null,
            "border": null,
            "align_items": null,
            "bottom": null,
            "_model_module": "@jupyter-widgets/base",
            "top": null,
            "grid_column": null,
            "overflow_y": null,
            "overflow_x": null,
            "grid_auto_flow": null,
            "grid_area": null,
            "grid_template_columns": null,
            "flex": null,
            "_model_name": "LayoutModel",
            "justify_items": null,
            "grid_row": null,
            "max_height": null,
            "align_content": null,
            "visibility": null,
            "align_self": null,
            "height": null,
            "min_height": null,
            "padding": null,
            "grid_auto_rows": null,
            "grid_gap": null,
            "max_width": null,
            "order": null,
            "_view_module_version": "1.2.0",
            "grid_template_areas": null,
            "object_position": null,
            "object_fit": null,
            "grid_auto_columns": null,
            "margin": null,
            "display": null,
            "left": null
          }
        },
        "068e7349d9274c49b80a2181d1f3ec19": {
          "model_module": "@jupyter-widgets/controls",
          "model_name": "IntProgressModel",
          "state": {
            "_view_name": "ProgressView",
            "style": "IPY_MODEL_1cd8d1bc1f6a40b499950e92d7093d96",
            "_dom_classes": [],
            "description": "Downloading: 100%",
            "_model_name": "IntProgressModel",
            "bar_style": "success",
            "max": 440473133,
            "_view_module": "@jupyter-widgets/controls",
            "_model_module_version": "1.5.0",
            "value": 440473133,
            "_view_count": null,
            "_view_module_version": "1.5.0",
            "orientation": "horizontal",
            "min": 0,
            "description_tooltip": null,
            "_model_module": "@jupyter-widgets/controls",
            "layout": "IPY_MODEL_76384620fd2248569e95c93f4c33e399"
          }
        },
        "580eaa79adac43ccacb1fac8ebe9cd88": {
          "model_module": "@jupyter-widgets/controls",
          "model_name": "HTMLModel",
          "state": {
            "_view_name": "HTMLView",
            "style": "IPY_MODEL_4ef7fb5bd8444858b478dc46f8825187",
            "_dom_classes": [],
            "description": "",
            "_model_name": "HTMLModel",
            "placeholder": "​",
            "_view_module": "@jupyter-widgets/controls",
            "_model_module_version": "1.5.0",
            "value": " 440M/440M [00:37&lt;00:00, 11.8MB/s]",
            "_view_count": null,
            "_view_module_version": "1.5.0",
            "description_tooltip": null,
            "_model_module": "@jupyter-widgets/controls",
            "layout": "IPY_MODEL_1c531dfbef56426c95f82c7f466376d6"
          }
        },
        "1cd8d1bc1f6a40b499950e92d7093d96": {
          "model_module": "@jupyter-widgets/controls",
          "model_name": "ProgressStyleModel",
          "state": {
            "_view_name": "StyleView",
            "_model_name": "ProgressStyleModel",
            "description_width": "initial",
            "_view_module": "@jupyter-widgets/base",
            "_model_module_version": "1.5.0",
            "_view_count": null,
            "_view_module_version": "1.2.0",
            "bar_color": null,
            "_model_module": "@jupyter-widgets/controls"
          }
        },
        "76384620fd2248569e95c93f4c33e399": {
          "model_module": "@jupyter-widgets/base",
          "model_name": "LayoutModel",
          "state": {
            "_view_name": "LayoutView",
            "grid_template_rows": null,
            "right": null,
            "justify_content": null,
            "_view_module": "@jupyter-widgets/base",
            "overflow": null,
            "_model_module_version": "1.2.0",
            "_view_count": null,
            "flex_flow": null,
            "width": null,
            "min_width": null,
            "border": null,
            "align_items": null,
            "bottom": null,
            "_model_module": "@jupyter-widgets/base",
            "top": null,
            "grid_column": null,
            "overflow_y": null,
            "overflow_x": null,
            "grid_auto_flow": null,
            "grid_area": null,
            "grid_template_columns": null,
            "flex": null,
            "_model_name": "LayoutModel",
            "justify_items": null,
            "grid_row": null,
            "max_height": null,
            "align_content": null,
            "visibility": null,
            "align_self": null,
            "height": null,
            "min_height": null,
            "padding": null,
            "grid_auto_rows": null,
            "grid_gap": null,
            "max_width": null,
            "order": null,
            "_view_module_version": "1.2.0",
            "grid_template_areas": null,
            "object_position": null,
            "object_fit": null,
            "grid_auto_columns": null,
            "margin": null,
            "display": null,
            "left": null
          }
        },
        "4ef7fb5bd8444858b478dc46f8825187": {
          "model_module": "@jupyter-widgets/controls",
          "model_name": "DescriptionStyleModel",
          "state": {
            "_view_name": "StyleView",
            "_model_name": "DescriptionStyleModel",
            "description_width": "",
            "_view_module": "@jupyter-widgets/base",
            "_model_module_version": "1.5.0",
            "_view_count": null,
            "_view_module_version": "1.2.0",
            "_model_module": "@jupyter-widgets/controls"
          }
        },
        "1c531dfbef56426c95f82c7f466376d6": {
          "model_module": "@jupyter-widgets/base",
          "model_name": "LayoutModel",
          "state": {
            "_view_name": "LayoutView",
            "grid_template_rows": null,
            "right": null,
            "justify_content": null,
            "_view_module": "@jupyter-widgets/base",
            "overflow": null,
            "_model_module_version": "1.2.0",
            "_view_count": null,
            "flex_flow": null,
            "width": null,
            "min_width": null,
            "border": null,
            "align_items": null,
            "bottom": null,
            "_model_module": "@jupyter-widgets/base",
            "top": null,
            "grid_column": null,
            "overflow_y": null,
            "overflow_x": null,
            "grid_auto_flow": null,
            "grid_area": null,
            "grid_template_columns": null,
            "flex": null,
            "_model_name": "LayoutModel",
            "justify_items": null,
            "grid_row": null,
            "max_height": null,
            "align_content": null,
            "visibility": null,
            "align_self": null,
            "height": null,
            "min_height": null,
            "padding": null,
            "grid_auto_rows": null,
            "grid_gap": null,
            "max_width": null,
            "order": null,
            "_view_module_version": "1.2.0",
            "grid_template_areas": null,
            "object_position": null,
            "object_fit": null,
            "grid_auto_columns": null,
            "margin": null,
            "display": null,
            "left": null
          }
        }
      }
    }
  },
  "cells": [
    {
      "cell_type": "code",
      "metadata": {
        "id": "jPC9Hq_wchg-",
        "colab_type": "code",
        "outputId": "ef2c3bca-67ab-4587-cc8b-48bc0148464f",
        "colab": {
          "base_uri": "https://localhost:8080/",
          "height": 306
        }
      },
      "source": [
        "!nvidia-smi"
      ],
      "execution_count": 1,
      "outputs": [
        {
          "output_type": "stream",
          "text": [
            "Wed May  6 16:54:31 2020       \n",
            "+-----------------------------------------------------------------------------+\n",
            "| NVIDIA-SMI 440.82       Driver Version: 418.67       CUDA Version: 10.1     |\n",
            "|-------------------------------+----------------------+----------------------+\n",
            "| GPU  Name        Persistence-M| Bus-Id        Disp.A | Volatile Uncorr. ECC |\n",
            "| Fan  Temp  Perf  Pwr:Usage/Cap|         Memory-Usage | GPU-Util  Compute M. |\n",
            "|===============================+======================+======================|\n",
            "|   0  Tesla K80           Off  | 00000000:00:04.0 Off |                    0 |\n",
            "| N/A   34C    P8    27W / 149W |      0MiB / 11441MiB |      0%      Default |\n",
            "+-------------------------------+----------------------+----------------------+\n",
            "                                                                               \n",
            "+-----------------------------------------------------------------------------+\n",
            "| Processes:                                                       GPU Memory |\n",
            "|  GPU       PID   Type   Process name                             Usage      |\n",
            "|=============================================================================|\n",
            "|  No running processes found                                                 |\n",
            "+-----------------------------------------------------------------------------+\n"
          ],
          "name": "stdout"
        }
      ]
    },
    {
      "cell_type": "code",
      "metadata": {
        "id": "O_3DVGWwcqdo",
        "colab_type": "code",
        "outputId": "7f5d7543-7e56-4137-b49b-db7d92278415",
        "colab": {
          "base_uri": "https://localhost:8080/",
          "height": 683
        }
      },
      "source": [
        "pip install transformers"
      ],
      "execution_count": 2,
      "outputs": [
        {
          "output_type": "stream",
          "text": [
            "Collecting transformers\n",
            "\u001b[?25l  Downloading https://files.pythonhosted.org/packages/a3/78/92cedda05552398352ed9784908b834ee32a0bd071a9b32de287327370b7/transformers-2.8.0-py3-none-any.whl (563kB)\n",
            "\u001b[K     |████████████████████████████████| 573kB 2.8MB/s \n",
            "\u001b[?25hCollecting sentencepiece\n",
            "\u001b[?25l  Downloading https://files.pythonhosted.org/packages/98/2c/8df20f3ac6c22ac224fff307ebc102818206c53fc454ecd37d8ac2060df5/sentencepiece-0.1.86-cp36-cp36m-manylinux1_x86_64.whl (1.0MB)\n",
            "\u001b[K     |████████████████████████████████| 1.0MB 12.4MB/s \n",
            "\u001b[?25hRequirement already satisfied: boto3 in /usr/local/lib/python3.6/dist-packages (from transformers) (1.13.1)\n",
            "Collecting sacremoses\n",
            "\u001b[?25l  Downloading https://files.pythonhosted.org/packages/7d/34/09d19aff26edcc8eb2a01bed8e98f13a1537005d31e95233fd48216eed10/sacremoses-0.0.43.tar.gz (883kB)\n",
            "\u001b[K     |████████████████████████████████| 890kB 15.8MB/s \n",
            "\u001b[?25hRequirement already satisfied: dataclasses; python_version < \"3.7\" in /usr/local/lib/python3.6/dist-packages (from transformers) (0.7)\n",
            "Requirement already satisfied: regex!=2019.12.17 in /usr/local/lib/python3.6/dist-packages (from transformers) (2019.12.20)\n",
            "Requirement already satisfied: tqdm>=4.27 in /usr/local/lib/python3.6/dist-packages (from transformers) (4.38.0)\n",
            "Requirement already satisfied: filelock in /usr/local/lib/python3.6/dist-packages (from transformers) (3.0.12)\n",
            "Collecting tokenizers==0.5.2\n",
            "\u001b[?25l  Downloading https://files.pythonhosted.org/packages/d1/3f/73c881ea4723e43c1e9acf317cf407fab3a278daab3a69c98dcac511c04f/tokenizers-0.5.2-cp36-cp36m-manylinux1_x86_64.whl (3.7MB)\n",
            "\u001b[K     |████████████████████████████████| 3.7MB 21.4MB/s \n",
            "\u001b[?25hRequirement already satisfied: requests in /usr/local/lib/python3.6/dist-packages (from transformers) (2.23.0)\n",
            "Requirement already satisfied: numpy in /usr/local/lib/python3.6/dist-packages (from transformers) (1.18.3)\n",
            "Requirement already satisfied: jmespath<1.0.0,>=0.7.1 in /usr/local/lib/python3.6/dist-packages (from boto3->transformers) (0.9.5)\n",
            "Requirement already satisfied: botocore<1.17.0,>=1.16.1 in /usr/local/lib/python3.6/dist-packages (from boto3->transformers) (1.16.1)\n",
            "Requirement already satisfied: s3transfer<0.4.0,>=0.3.0 in /usr/local/lib/python3.6/dist-packages (from boto3->transformers) (0.3.3)\n",
            "Requirement already satisfied: six in /usr/local/lib/python3.6/dist-packages (from sacremoses->transformers) (1.12.0)\n",
            "Requirement already satisfied: click in /usr/local/lib/python3.6/dist-packages (from sacremoses->transformers) (7.1.2)\n",
            "Requirement already satisfied: joblib in /usr/local/lib/python3.6/dist-packages (from sacremoses->transformers) (0.14.1)\n",
            "Requirement already satisfied: idna<3,>=2.5 in /usr/local/lib/python3.6/dist-packages (from requests->transformers) (2.9)\n",
            "Requirement already satisfied: urllib3!=1.25.0,!=1.25.1,<1.26,>=1.21.1 in /usr/local/lib/python3.6/dist-packages (from requests->transformers) (1.24.3)\n",
            "Requirement already satisfied: certifi>=2017.4.17 in /usr/local/lib/python3.6/dist-packages (from requests->transformers) (2020.4.5.1)\n",
            "Requirement already satisfied: chardet<4,>=3.0.2 in /usr/local/lib/python3.6/dist-packages (from requests->transformers) (3.0.4)\n",
            "Requirement already satisfied: docutils<0.16,>=0.10 in /usr/local/lib/python3.6/dist-packages (from botocore<1.17.0,>=1.16.1->boto3->transformers) (0.15.2)\n",
            "Requirement already satisfied: python-dateutil<3.0.0,>=2.1 in /usr/local/lib/python3.6/dist-packages (from botocore<1.17.0,>=1.16.1->boto3->transformers) (2.8.1)\n",
            "Building wheels for collected packages: sacremoses\n",
            "  Building wheel for sacremoses (setup.py) ... \u001b[?25l\u001b[?25hdone\n",
            "  Created wheel for sacremoses: filename=sacremoses-0.0.43-cp36-none-any.whl size=893260 sha256=dfef679a2f9fb21c28ac922c35841b73d4408e0ac35f80f1079abe2690dbf0b3\n",
            "  Stored in directory: /root/.cache/pip/wheels/29/3c/fd/7ce5c3f0666dab31a50123635e6fb5e19ceb42ce38d4e58f45\n",
            "Successfully built sacremoses\n",
            "Installing collected packages: sentencepiece, sacremoses, tokenizers, transformers\n",
            "Successfully installed sacremoses-0.0.43 sentencepiece-0.1.86 tokenizers-0.5.2 transformers-2.8.0\n"
          ],
          "name": "stdout"
        }
      ]
    },
    {
      "cell_type": "markdown",
      "metadata": {
        "colab_type": "text",
        "id": "3of5x1NA5fQd"
      },
      "source": [
        "Special thanks to Venelin Valkov on Youtube for part of the code"
      ]
    },
    {
      "cell_type": "code",
      "metadata": {
        "cellView": "form",
        "colab_type": "code",
        "id": "OkKTGqR1Q-Kv",
        "outputId": "7a14692e-1c38-49e9-e9d5-225d04b9aef3",
        "colab": {
          "base_uri": "https://localhost:8080/",
          "height": 88
        }
      },
      "source": [
        "#@title Setup & Config\n",
        "import transformers\n",
        "from transformers import BertModel, BertTokenizer, AdamW, get_linear_schedule_with_warmup\n",
        "import torch\n",
        "\n",
        "import numpy as np\n",
        "import pandas as pd\n",
        "import seaborn as sns\n",
        "from pylab import rcParams\n",
        "import matplotlib.pyplot as plt\n",
        "import matplotlib.pyplot as plt\n",
        "from matplotlib import rc\n",
        "from sklearn.model_selection import train_test_split\n",
        "from sklearn.metrics import confusion_matrix, classification_report\n",
        "from collections import defaultdict\n",
        "from textwrap import wrap\n",
        "\n",
        "from string import digits\n",
        "import re\n",
        "\n",
        "from torch import nn, optim\n",
        "from torch.utils.data import Dataset, DataLoader, WeightedRandomSampler\n",
        "import torch.nn.functional as F\n",
        "from torch.autograd import Variable\n",
        "\n",
        "%matplotlib inline\n",
        "%config InlineBackend.figure_format='retina'\n",
        "\n",
        "sns.set(style='whitegrid', palette='muted', font_scale=1.2)\n",
        "\n",
        "HAPPY_COLORS_PALETTE = [\"#01BEFE\", \"#FFDD00\", \"#FF7D00\", \"#FF006D\", \"#ADFF02\", \"#8F00FF\"]\n",
        "\n",
        "sns.set_palette(sns.color_palette(HAPPY_COLORS_PALETTE))\n",
        "\n",
        "rcParams['figure.figsize'] = 12, 8\n",
        "\n",
        "RANDOM_SEED = 24\n",
        "np.random.seed(RANDOM_SEED)\n",
        "torch.manual_seed(RANDOM_SEED)\n",
        "PRE_TRAINED_MODEL = 'bert-base-uncased'\n",
        "BATCH_SIZE = 8\n",
        "\n",
        "device = torch.device(\"cuda:0\" if torch.cuda.is_available() else \"cpu\")\n",
        "device"
      ],
      "execution_count": 3,
      "outputs": [
        {
          "output_type": "stream",
          "text": [
            "/usr/local/lib/python3.6/dist-packages/statsmodels/tools/_testing.py:19: FutureWarning: pandas.util.testing is deprecated. Use the functions in the public API at pandas.testing instead.\n",
            "  import pandas.util.testing as tm\n"
          ],
          "name": "stderr"
        },
        {
          "output_type": "execute_result",
          "data": {
            "text/plain": [
              "device(type='cuda', index=0)"
            ]
          },
          "metadata": {
            "tags": []
          },
          "execution_count": 3
        }
      ]
    },
    {
      "cell_type": "markdown",
      "metadata": {
        "id": "IE3M5t35H3Ao",
        "colab_type": "text"
      },
      "source": [
        "# Max token length"
      ]
    },
    {
      "cell_type": "code",
      "metadata": {
        "id": "i0u7x0fjqJDN",
        "colab_type": "code",
        "colab": {}
      },
      "source": [
        "attributes_df=pd.read_csv('attributes_df.csv')\n",
        "#style_df=pd.read_csv('style_df.csv')\n",
        "#tagged_products_df=pd.read_csv('tagged_products_df.csv')"
      ],
      "execution_count": 0,
      "outputs": []
    },
    {
      "cell_type": "code",
      "metadata": {
        "id": "2pYoKGTIZAWa",
        "colab_type": "code",
        "colab": {}
      },
      "source": [
        "brand_dummies = pd.get_dummies(attributes_df['brand_le'])"
      ],
      "execution_count": 0,
      "outputs": []
    },
    {
      "cell_type": "code",
      "metadata": {
        "id": "MJnCgGjwXcbH",
        "colab_type": "code",
        "colab": {}
      },
      "source": [
        "attributes_df = pd.concat([attributes_df, brand_dummies],axis=1).drop('brand_le', axis=1)"
      ],
      "execution_count": 0,
      "outputs": []
    },
    {
      "cell_type": "code",
      "metadata": {
        "colab_type": "code",
        "id": "2eHfTZNc367L",
        "colab": {
          "base_uri": "https://localhost:8080/",
          "height": 66,
          "referenced_widgets": [
            "a2fbd98518b14aabb02b01811c9eb08e",
            "c5c3cc5ea10449a18930ddbc4061d63a",
            "0258b21afaa8431090f32549373cbf78",
            "dae634c4092b435ab1fef6ebde943cd4",
            "8b6d252d84f1451ead99961b0792ff74",
            "11e5e744b992431cabf31ea664772cc9",
            "9126357b2d18460fa26a1b0e66004cba",
            "0a66f245ebe343308494b01d0dee855a"
          ]
        },
        "outputId": "f5366972-7242-49a4-cd20-97d77a648e46"
      },
      "source": [
        "cols = ['description','product_full_name']#, 'brand', 'name']\n",
        "tokenizer = BertTokenizer.from_pretrained(PRE_TRAINED_MODEL)\n",
        "#tokenizer = tokenizer = transformers.RobertaTokenizer.from_pretrained('/content/',max_len=MAXLEN)"
      ],
      "execution_count": 7,
      "outputs": [
        {
          "output_type": "display_data",
          "data": {
            "application/vnd.jupyter.widget-view+json": {
              "model_id": "a2fbd98518b14aabb02b01811c9eb08e",
              "version_minor": 0,
              "version_major": 2
            },
            "text/plain": [
              "HBox(children=(IntProgress(value=0, description='Downloading', max=231508, style=ProgressStyle(description_wid…"
            ]
          },
          "metadata": {
            "tags": []
          }
        },
        {
          "output_type": "stream",
          "text": [
            "\n"
          ],
          "name": "stdout"
        }
      ]
    },
    {
      "cell_type": "code",
      "metadata": {
        "colab_type": "code",
        "id": "ZaMpd4_V3FwF",
        "colab": {}
      },
      "source": [
        "def token_length(row, cols, tokenizer):\n",
        "  token_len = 0\n",
        "  for col in cols:\n",
        "    token_len += len(tokenizer.encode(str(row[col]), max_length=512))\n",
        "  return token_len"
      ],
      "execution_count": 0,
      "outputs": []
    },
    {
      "cell_type": "code",
      "metadata": {
        "colab_type": "code",
        "id": "YU-_QFWn23IZ",
        "colab": {}
      },
      "source": [
        "token_lens = attributes_df.apply(lambda row: token_length(row, cols, tokenizer), axis=1)"
      ],
      "execution_count": 0,
      "outputs": []
    },
    {
      "cell_type": "markdown",
      "metadata": {
        "colab_type": "text",
        "id": "smAgtQLU-gbd"
      },
      "source": [
        "***Here we can do something to see how to shrink the longer token len rows***"
      ]
    },
    {
      "cell_type": "code",
      "metadata": {
        "colab_type": "code",
        "id": "0NITi7404wnJ",
        "outputId": "55d92b96-a11f-4d49-909c-ef5dd9534cab",
        "colab": {
          "base_uri": "https://localhost:8080/",
          "height": 523
        }
      },
      "source": [
        "sns.distplot(token_lens)\n",
        "plt.xlim([0, 300]);\n",
        "plt.xlabel('Token count')"
      ],
      "execution_count": 10,
      "outputs": [
        {
          "output_type": "execute_result",
          "data": {
            "text/plain": [
              "Text(0.5, 0, 'Token count')"
            ]
          },
          "metadata": {
            "tags": []
          },
          "execution_count": 10
        },
        {
          "output_type": "display_data",
          "data": {
            "image/png": "[encoded data removed]",
            "text/plain": [
              "<Figure size 864x576 with 1 Axes>"
            ]
          },
          "metadata": {
            "tags": [],
            "image/png": {
              "width": 735,
              "height": 489
            }
          }
        }
      ]
    },
    {
      "cell_type": "code",
      "metadata": {
        "colab_type": "code",
        "id": "q6ifHIvy5A_1",
        "colab": {}
      },
      "source": [
        "MAXLEN = 130"
      ],
      "execution_count": 0,
      "outputs": []
    },
    {
      "cell_type": "markdown",
      "metadata": {
        "id": "0FYrzQVXDp9_",
        "colab_type": "text"
      },
      "source": [
        "# Deep learning models"
      ]
    },
    {
      "cell_type": "code",
      "metadata": {
        "id": "lre6FDSia_qv",
        "colab_type": "code",
        "colab": {}
      },
      "source": [
        "# architecture cred to: https://towardsdatascience.com/identifying-hate-speech-with-bert-and-cnn-b7aa2cddd60d?gi=760198ca9051\n",
        "class BERTBaseUncasedCNN(nn.Module):\n",
        "  def __init__(self, embed_num, embed_dim, class_num, kernel_num, kernel_sizes, dropout, static):\n",
        "    super(BERTBaseUncasedCNN, self).__init__()\n",
        "    self.bert = transformers.BertModel.from_pretrained(PRE_TRAINED_MODEL)\n",
        "    self.V = embed_num\n",
        "    self.D = embed_dim\n",
        "    self.C = class_num\n",
        "    self.Co = kernel_num\n",
        "    self.Ks = kernel_sizes\n",
        "    self.static = static\n",
        "    self.cat_len = 482\n",
        "    self.convs1 = nn.ModuleList([nn.Conv2d(1, self.Co, (K, self.D)) for K in self.Ks])\n",
        "    self.dropout = nn.Dropout(dropout)\n",
        "    self.fc1 = nn.Linear(len(self.Ks) * self.Co + len(categories), 64)\n",
        "    self.fc2 = nn.Linear(64, 16)\n",
        "    self.fc3 = nn.Linear(16, 1)\n",
        "\n",
        "  def forward(self, input_ids, attention_mask, category):\n",
        "    x, _ = self.bert(\n",
        "        input_ids=input_ids, \n",
        "        attention_mask=attention_mask)\n",
        "    if self.static:\n",
        "      x = Variable(x)\n",
        "    x = x.unsqueeze(1)\n",
        "    x = [F.relu(conv(x)).squeeze(3) for conv in self.convs1]\n",
        "    x = [F.max_pool1d(i, i.size(2)).squeeze(2) for i in x]\n",
        "    x = torch.cat(x, 1)\n",
        "    x = torch.cat((category.view(-1,self.cat_len),x),dim=1)\n",
        "    x = self.dropout(x)\n",
        "    x = x.view(-1, len(self.Ks) * self.Co + len(categories))\n",
        "    x = self.fc1(x)\n",
        "    x = self.fc2(x)\n",
        "    return self.fc3(x)\n",
        "  def resize_token_embeddings(self, tokenizer_len):\n",
        "    self.bert.resize_token_embeddings(tokenizer_len)"
      ],
      "execution_count": 0,
      "outputs": []
    },
    {
      "cell_type": "code",
      "metadata": {
        "id": "5QG9_kA-bDlU",
        "colab_type": "code",
        "colab": {}
      },
      "source": [
        "#this is using self-trained roberta model using scraped descriptions from Farfetch\n",
        "class Clothberta(nn.Module): \n",
        "  def __init__(self, dropout):\n",
        "    super(Clothberta, self).__init__()\n",
        "    self.roberta = transformers.RobertaModel.from_pretrained('/content/')\n",
        "    self.cat_len = 482\n",
        "    self.dropout = nn.Dropout(p=dropout)\n",
        "    self.hidden1 = nn.Linear(self.roberta.config.hidden_size + self.cat_len, 64)\n",
        "    self.hidden2 = nn.Linear(64, 16)\n",
        "    self.out = nn.Linear(16, 1)\n",
        "    # self.out2 = nn.Linear(self.roberta.config.hidden_size + self.cat_len, 1)\n",
        "\n",
        "  def forward(self, input_ids, attention_mask, category):\n",
        "    _, x = self.roberta(\n",
        "        input_ids=input_ids, \n",
        "        attention_mask=attention_mask)\n",
        "    x = torch.cat((category.view(-1,self.cat_len),x),dim=1)\n",
        "    x = self.dropout(x)\n",
        "    x = x.view(-1, self.roberta.config.hidden_size + self.cat_len)\n",
        "    x = self.hidden1(x)\n",
        "    x = self.hidden2(x)\n",
        "    return self.out(x)\n",
        "  def resize_token_embeddings(self, tokenizer_len):\n",
        "    self.roberta.resize_token_embeddings(tokenizer_len)"
      ],
      "execution_count": 0,
      "outputs": []
    },
    {
      "cell_type": "code",
      "metadata": {
        "id": "o6-5tXpwcelk",
        "colab_type": "code",
        "colab": {}
      },
      "source": [
        "#regular dense model with bert \n",
        "class BERTBaseUncased(nn.Module):\n",
        "  def __init__(self, dropout):\n",
        "    super(BERTBaseUncased, self).__init__()\n",
        "    self.bert = transformers.BertModel.from_pretrained(PRE_TRAINED_MODEL)\n",
        "    self.cat_len = 482\n",
        "    self.dropout = nn.Dropout(p=dropout)\n",
        "    self.hidden1 = nn.Linear(self.bert.config.hidden_size + self.cat_len, 64)\n",
        "    self.hidden2 = nn.Linear(64, 16)\n",
        "    self.out = nn.Linear(16, 1)\n",
        "    # self.out2 = nn.Linear(self.bert.config.hidden_size + self.cat_len, 1)\n",
        "\n",
        "  def forward(self, input_ids, attention_mask, category):\n",
        "    _, x = self.bert(\n",
        "        input_ids=input_ids, \n",
        "        attention_mask=attention_mask)\n",
        "    x = torch.cat((category.view(-1,self.cat_len),x),dim=1)\n",
        "    x = self.dropout(x)\n",
        "    x = x.view(-1, self.bert.config.hidden_size + self.cat_len)\n",
        "    x = self.hidden1(x)\n",
        "    x = self.hidden2(x)\n",
        "    return self.out(x)\n",
        "  def resize_token_embeddings(self, tokenizer_len):\n",
        "    self.bert.resize_token_embeddings(tokenizer_len)"
      ],
      "execution_count": 0,
      "outputs": []
    },
    {
      "cell_type": "code",
      "metadata": {
        "colab_type": "code",
        "id": "utsIcYfmRce-",
        "colab": {}
      },
      "source": [
        "class StyleDataLoader:\n",
        "  def __init__(self, item_desc, brand_category, name, targets, tokenizer, max_length):\n",
        "    self.item_desc = item_desc\n",
        "    self.brand_category = brand_category\n",
        "    self.name = name\n",
        "    self.tokenizer = tokenizer\n",
        "    self.max_length = max_length\n",
        "    self.targets = targets\n",
        "  \n",
        "  def __len__(self):\n",
        "    return len(self.item_desc)\n",
        "    \n",
        "  def __getitem__(self, item):\n",
        "    item_description = str(self.item_desc[item])\n",
        "    item_brand_category = self.brand_category[item]\n",
        "    item_name = str(self.name[item])\n",
        "    target = self.targets[item]\n",
        "\n",
        "    encoding = self.tokenizer.encode_plus(\n",
        "        item_description, item_name,\n",
        "        max_length=self.max_length,\n",
        "        add_special_tokens=True,\n",
        "        pad_to_max_length=True,\n",
        "        return_attention_mask=True,\n",
        "        return_tensors='pt'\n",
        "    )\n",
        "\n",
        "    return {\n",
        "        'input_ids': encoding['input_ids'].flatten(),\n",
        "        'attention_mask': encoding['attention_mask'].flatten(),\n",
        "        'targets': torch.tensor(target, dtype=torch.long),\n",
        "        'brand_category':torch.tensor(item_brand_category, dtype=torch.float)\n",
        "    }"
      ],
      "execution_count": 0,
      "outputs": []
    },
    {
      "cell_type": "code",
      "metadata": {
        "id": "0EoaBTSKD4ZC",
        "colab_type": "code",
        "colab": {}
      },
      "source": [
        "#tokenizer = transformers.RobertaTokenizer.from_pretrained('/content/',max_len=MAXLEN)\n",
        "#bert tokenizer\n",
        "tokenizer = BertTokenizer.from_pretrained(PRE_TRAINED_MODEL)"
      ],
      "execution_count": 0,
      "outputs": []
    },
    {
      "cell_type": "code",
      "metadata": {
        "colab_type": "code",
        "id": "BFN4i-LP7TK6",
        "colab": {}
      },
      "source": [
        "#train test split\n",
        "df_train, df_val = train_test_split(attributes_df, stratify=attributes_df.weekend_target,random_state=RANDOM_SEED, test_size=0.1)\n",
        "df_val, df_test = train_test_split(df_val, stratify=df_val.weekend_target,random_state=RANDOM_SEED, test_size=0.5)"
      ],
      "execution_count": 0,
      "outputs": []
    },
    {
      "cell_type": "code",
      "metadata": {
        "id": "hWk0_9BMjNSk",
        "colab_type": "code",
        "colab": {}
      },
      "source": [
        "# experimenting with oversampling\n",
        "# from imblearn.over_sampling import RandomOverSampler\n",
        "# ros = RandomOverSampler(random_state=24)\n",
        "\n",
        "# X_res, _ = ros.fit_resample(df_train, df_train.weekend_target)\n",
        "# X_res = pd.DataFrame(X_res)\n",
        "# X_res.columns = df_train.columns"
      ],
      "execution_count": 0,
      "outputs": []
    },
    {
      "cell_type": "code",
      "metadata": {
        "colab_type": "code",
        "id": "C-5VB2aE718L",
        "outputId": "eea5f876-b4a7-4653-a14e-89028a9f5cf2",
        "colab": {
          "base_uri": "https://localhost:8080/",
          "height": 34
        }
      },
      "source": [
        "df_train.shape, df_val.shape, df_test.shape"
      ],
      "execution_count": 19,
      "outputs": [
        {
          "output_type": "execute_result",
          "data": {
            "text/plain": [
              "((3276, 494), (182, 494), (183, 494))"
            ]
          },
          "metadata": {
            "tags": []
          },
          "execution_count": 19
        }
      ]
    },
    {
      "cell_type": "code",
      "metadata": {
        "colab_type": "code",
        "id": "b-wMcpIgTHKf",
        "colab": {}
      },
      "source": [
        "categories = df_train.iloc[:,12:].columns.tolist()"
      ],
      "execution_count": 0,
      "outputs": []
    },
    {
      "cell_type": "code",
      "metadata": {
        "colab_type": "code",
        "id": "cEhWrR-C8Eam",
        "colab": {}
      },
      "source": [
        "def create_data_loader(df, target, tokenizer, max_len, batch_size, categories, weighted_sampler=None):\n",
        "  dataset = StyleDataLoader(item_desc=df.description.to_numpy(),\n",
        "                brand_category=df[categories].to_numpy().astype(float),\n",
        "                name=df.product_full_name.to_numpy(),\n",
        "                targets=df[target].to_numpy().astype(float).reshape(-1,1),\n",
        "                tokenizer=tokenizer,\n",
        "                max_length=MAXLEN)\n",
        "  return DataLoader(\n",
        "      dataset,\n",
        "      sampler=weighted_sampler,\n",
        "      batch_size=batch_size)"
      ],
      "execution_count": 0,
      "outputs": []
    },
    {
      "cell_type": "code",
      "metadata": {
        "colab_type": "code",
        "id": "luN_il6CdYyu",
        "colab": {}
      },
      "source": [
        "# calculating class imbalance and add in weighted sampler for train data loader\n",
        "class_weights = 1 / df_train['weekend_target'].value_counts()\n",
        "class_index = df_train['weekend_target'].value_counts().index\n",
        "weights_map = {class_index[i]:class_weights.iloc[i] for i in range(len(class_index))}\n",
        "class_weights_all = df_train['weekend_target'].map(weights_map).tolist()"
      ],
      "execution_count": 0,
      "outputs": []
    },
    {
      "cell_type": "code",
      "metadata": {
        "colab_type": "code",
        "id": "TMVFpJyahMhS",
        "colab": {}
      },
      "source": [
        "weighted_sampler = WeightedRandomSampler(\n",
        "    weights=class_weights_all,\n",
        "    num_samples=len(class_weights_all),\n",
        "    replacement=True\n",
        ")"
      ],
      "execution_count": 0,
      "outputs": []
    },
    {
      "cell_type": "code",
      "metadata": {
        "colab_type": "code",
        "id": "4xXYweMI9cts",
        "colab": {}
      },
      "source": [
        "#weighted sampler to treat class imbalance\n",
        "train_data_loader = create_data_loader(df_train, 'weekend_target', tokenizer, MAXLEN, BATCH_SIZE, categories=categories, weighted_sampler=weighted_sampler)\n",
        "val_data_loader = create_data_loader(df_val, 'weekend_target', tokenizer, MAXLEN, BATCH_SIZE, categories=categories)\n",
        "test_data_loader = create_data_loader(df_test, 'weekend_target', tokenizer, MAXLEN, BATCH_SIZE, categories=categories)"
      ],
      "execution_count": 0,
      "outputs": []
    },
    {
      "cell_type": "code",
      "metadata": {
        "colab_type": "code",
        "id": "Ytn3PJ0jSje8",
        "colab": {}
      },
      "source": [
        "# num_added_toks = tokenizer.add_tokens(['CATEGORY_TOKEN', 'NAME_TOKEN'])\n",
        "# weekendmodel.resize_token_embeddings(len(tokenizer))"
      ],
      "execution_count": 0,
      "outputs": []
    },
    {
      "cell_type": "code",
      "metadata": {
        "colab_type": "code",
        "id": "HSDzd-LqBgcs",
        "outputId": "cfd0e459-dcc9-49ce-9f72-bf97967d7a6c",
        "colab": {
          "base_uri": "https://localhost:8080/",
          "height": 115,
          "referenced_widgets": [
            "d9e9493590744207bdf0e4600a9e2e98",
            "fc47216ed8524ad08af2b51ffdd512d3",
            "9d7b112abbc141c08fbc876d0696dd8f",
            "fccd8af4011748b2afdf62ecbdc5d4fc",
            "1c1f665d3ca344b68d9aa8718bd3a0dd",
            "fa9c2a33f43641ed855f8248e6008915",
            "747144e651fe479197e456b4dec0859e",
            "ce6cf76961a142248a810fca91e7b073",
            "4dba4d16b3f343f6a2cccb346714c091",
            "ecce702be0e847e88c6d60c036f4a961",
            "068e7349d9274c49b80a2181d1f3ec19",
            "580eaa79adac43ccacb1fac8ebe9cd88",
            "1cd8d1bc1f6a40b499950e92d7093d96",
            "76384620fd2248569e95c93f4c33e399",
            "4ef7fb5bd8444858b478dc46f8825187",
            "1c531dfbef56426c95f82c7f466376d6"
          ]
        }
      },
      "source": [
        "# model config\n",
        "# embed_num = MAXLEN\n",
        "# embed_dim = transformers.BertModel.from_pretrained(PRE_TRAINED_MODEL).config.hidden_size#transformers.RobertaModel.from_pretrained('/content/').config.hidden_size\n",
        "# class_num = 1\n",
        "# kernel_num = 3\n",
        "# kernel_sizes = [2,3,4]\n",
        "# dropout = 0.3\n",
        "# static = True\n",
        "weekendmodel = BERTBaseUncased(dropout=dropout)\n",
        "weekendmodel = weekendmodel.to(device)"
      ],
      "execution_count": 26,
      "outputs": [
        {
          "output_type": "display_data",
          "data": {
            "application/vnd.jupyter.widget-view+json": {
              "model_id": "d9e9493590744207bdf0e4600a9e2e98",
              "version_minor": 0,
              "version_major": 2
            },
            "text/plain": [
              "HBox(children=(IntProgress(value=0, description='Downloading', max=433, style=ProgressStyle(description_width=…"
            ]
          },
          "metadata": {
            "tags": []
          }
        },
        {
          "output_type": "stream",
          "text": [
            "\n"
          ],
          "name": "stdout"
        },
        {
          "output_type": "display_data",
          "data": {
            "application/vnd.jupyter.widget-view+json": {
              "model_id": "4dba4d16b3f343f6a2cccb346714c091",
              "version_minor": 0,
              "version_major": 2
            },
            "text/plain": [
              "HBox(children=(IntProgress(value=0, description='Downloading', max=440473133, style=ProgressStyle(description_…"
            ]
          },
          "metadata": {
            "tags": []
          }
        },
        {
          "output_type": "stream",
          "text": [
            "\n"
          ],
          "name": "stdout"
        }
      ]
    },
    {
      "cell_type": "code",
      "metadata": {
        "colab_type": "code",
        "id": "XvLgZ-FbCMLL",
        "colab": {}
      },
      "source": [
        "#define optimizer, scheduler, loss function \n",
        "EPOCHS = 20\n",
        "optimizer = AdamW(weekendmodel.parameters(),\n",
        "          lr=2e-5,\n",
        "          correct_bias=False)\n",
        "total_steps = len(train_data_loader) * EPOCHS\n",
        "\n",
        "scheduler = get_linear_schedule_with_warmup(\n",
        "    optimizer,\n",
        "    num_warmup_steps=0,\n",
        "    num_training_steps=total_steps)\n",
        "\n",
        "loss_fn = nn.BCEWithLogitsLoss().to(device)"
      ],
      "execution_count": 0,
      "outputs": []
    },
    {
      "cell_type": "code",
      "metadata": {
        "colab_type": "code",
        "id": "slJpzrRgBISr",
        "colab": {}
      },
      "source": [
        "def get_accuracy(y_true, y_pred):\n",
        "  return (y_true == y_pred).sum().float() / len(y_true)"
      ],
      "execution_count": 0,
      "outputs": []
    },
    {
      "cell_type": "code",
      "metadata": {
        "id": "mUhK8cHg9rgu",
        "colab_type": "code",
        "colab": {}
      },
      "source": [
        "from sklearn.metrics import f1_score\n",
        "def get_f1(y_true, y_pred):\n",
        "  return f1_score(y_true, y_pred)"
      ],
      "execution_count": 0,
      "outputs": []
    },
    {
      "cell_type": "code",
      "metadata": {
        "colab_type": "code",
        "id": "LxiNBnosC1Me",
        "colab": {}
      },
      "source": [
        "def train_epoch(model, data_loader, loss_fn, optimizer, \n",
        "        device, scheduler, n_examples):\n",
        "  model = model.train()\n",
        "  \n",
        "  losses = []\n",
        "  cumm_accuracy = 0\n",
        "  labels, predictions = [], []\n",
        "\n",
        "  for d in data_loader:\n",
        "    input_ids = d['input_ids'].to(device)\n",
        "    attention_mask = d['attention_mask'].to(device)\n",
        "    targets = d['targets'].to(device)\n",
        "    brand_category = d['brand_category'].to(device)\n",
        "\n",
        "    outputs = model(\n",
        "      input_ids=input_ids,\n",
        "      attention_mask=attention_mask,\n",
        "      category=brand_category\n",
        "    )\n",
        "\n",
        "    preds = torch.sigmoid(outputs).ge(0.5).view(-1)\n",
        "    predictions.extend(preds.cpu())\n",
        "    labels.extend(targets.cpu())\n",
        "\n",
        "    loss = loss_fn(outputs, targets.type_as(outputs))\n",
        "    cumm_accuracy += get_accuracy(targets, preds)\n",
        "    losses.append(loss.item())\n",
        "    optimizer.zero_grad()\n",
        "    loss.backward()\n",
        "    # clipping grads for to prevent exploding grad\n",
        "    nn.utils.clip_grad_norm_(model.parameters(), max_norm=1.0)\n",
        "    \n",
        "    optimizer.step()\n",
        "    scheduler.step()\n",
        "\n",
        "  epoch_f1 = get_f1(labels, predictions)\n",
        "  return cumm_accuracy.double() / n_examples, np.mean(losses), epoch_f1"
      ],
      "execution_count": 0,
      "outputs": []
    },
    {
      "cell_type": "code",
      "metadata": {
        "colab_type": "code",
        "id": "ZLrtuLShDS7x",
        "colab": {}
      },
      "source": [
        "def eval_model(model, data_loader, loss_fn, device, n_examples):\n",
        "  model = model.eval()\n",
        "\n",
        "  losses = []\n",
        "  predictions, labels = [], []\n",
        "  cumm_accuracy = 0\n",
        "\n",
        "  with torch.no_grad():\n",
        "    for d in data_loader:\n",
        "      input_ids = d['input_ids'].to(device)\n",
        "      attention_mask = d['attention_mask'].to(device)\n",
        "      targets = d['targets'].to(device)\n",
        "      brand_category = d['brand_category'].to(device)\n",
        "\n",
        "      outputs = model(\n",
        "        input_ids=input_ids,\n",
        "        attention_mask=attention_mask,\n",
        "        category=brand_category\n",
        "      )\n",
        "      #keep track of predictions\n",
        "      preds = torch.sigmoid(outputs).ge(0.5).view(-1)\n",
        "      predictions.extend(preds.cpu())\n",
        "      labels.extend(targets.cpu())\n",
        "\n",
        "      #losses and eval metrics\n",
        "      loss = loss_fn(outputs, targets.type_as(outputs))\n",
        "      cumm_accuracy += get_accuracy(targets, preds)\n",
        "      losses.append(loss.item())\n",
        "  epoch_f1 = get_f1(labels, predictions)\n",
        "  return cumm_accuracy.double() / n_examples, np.mean(losses), epoch_f1"
      ],
      "execution_count": 0,
      "outputs": []
    },
    {
      "cell_type": "code",
      "metadata": {
        "colab_type": "code",
        "id": "Z7-f-lOHLld1",
        "colab": {}
      },
      "source": [
        "torch.cuda.empty_cache()"
      ],
      "execution_count": 0,
      "outputs": []
    },
    {
      "cell_type": "code",
      "metadata": {
        "colab_type": "code",
        "id": "q-Fwxc2WDXXC",
        "scrolled": false,
        "outputId": "e1c0a518-e04f-4546-8a81-34f5d200267e",
        "colab": {
          "base_uri": "https://localhost:8080/",
          "height": 1000
        }
      },
      "source": [
        "# main training loop\n",
        "%%time\n",
        "\n",
        "history = defaultdict(list)\n",
        "best_f1 = 0\n",
        "\n",
        "for epoch in range(EPOCHS):\n",
        "\n",
        "  print(f'Epoch {epoch + 1}/{EPOCHS}')\n",
        "  print('-' * 10)\n",
        "\n",
        "  train_acc, train_loss, train_f1 = train_epoch(\n",
        "    weekendmodel,\n",
        "    train_data_loader,    \n",
        "    loss_fn, \n",
        "    optimizer, \n",
        "    device, \n",
        "    scheduler, \n",
        "    len(df_train)\n",
        "  )\n",
        "\n",
        "  print(f'Train loss {train_loss} train acc {train_acc} f1 {train_f1}')\n",
        "\n",
        "  val_acc, val_loss, val_f1 = eval_model(\n",
        "    weekendmodel,\n",
        "    val_data_loader,\n",
        "    loss_fn, \n",
        "    device, \n",
        "    len(df_val)\n",
        "  )\n",
        "\n",
        "  print(f'Val loss {val_loss} val acc {val_acc} f1 {val_f1}')\n",
        "  print()\n",
        "\n",
        "  history['train_f1'].append(train_f1)\n",
        "  history['train_acc'].append(train_acc)\n",
        "  history['train_loss'].append(train_loss)\n",
        "  history['val_f1'].append(val_f1)\n",
        "  history['val_acc'].append(val_acc)\n",
        "  history['val_loss'].append(val_loss)\n",
        "\n",
        "  if val_f1 > best_f1:\n",
        "    torch.save(weekendmodel.state_dict(), 'weekend_model_state.bin')\n",
        "    best_f1 = val_f1"
      ],
      "execution_count": 63,
      "outputs": [
        {
          "output_type": "stream",
          "text": [
            "Epoch 1/20\n",
            "----------\n",
            "Train loss 0.2895409918322069 train acc 0.5538003663003663 f1 0.9120384268988293\n",
            "Val loss 0.7602800909915696 val acc 0.6291208791208792 f1 0.8444444444444443\n",
            "\n",
            "Epoch 2/20\n",
            "----------\n",
            "Train loss 0.23668217998588595 train acc 0.556013431013431 f1 0.9341133004926109\n",
            "Val loss 0.9107613736844581 val acc 0.6565934065934066 f1 0.8398576512455516\n",
            "\n",
            "Epoch 3/20\n",
            "----------\n",
            "Train loss 0.1563197250273533 train acc 0.5562423687423688 f1 0.9639905548996457\n",
            "Val loss 1.0309395570226985 val acc 0.6662087912087913 f1 0.85\n",
            "\n",
            "Epoch 4/20\n",
            "----------\n",
            "Train loss 0.13145438975586396 train acc 0.5590659340659341 f1 0.9705973382853605\n",
            "Val loss 1.1316910193139769 val acc 0.6552197802197802 f1 0.8447653429602888\n",
            "\n",
            "Epoch 5/20\n",
            "----------\n",
            "Train loss 0.1114886705570559 train acc 0.5587606837606838 f1 0.976459798226842\n",
            "Val loss 1.120602117082023 val acc 0.6456043956043956 f1 0.8498168498168498\n",
            "\n",
            "Epoch 6/20\n",
            "----------\n",
            "Train loss 0.10472475892023705 train acc 0.5563186813186813 f1 0.9783147459727385\n",
            "Val loss 1.1748371216387528 val acc 0.6703296703296704 f1 0.852112676056338\n",
            "\n",
            "Epoch 7/20\n",
            "----------\n",
            "Train loss 0.08223595443386131 train acc 0.553495115995116 f1 0.9829164124466138\n",
            "Val loss 1.1295470184970484 val acc 0.6785714285714286 f1 0.8661971830985916\n",
            "\n",
            "Epoch 8/20\n",
            "----------\n",
            "Train loss 0.06600412508393297 train acc 0.5633394383394383 f1 0.986428130783467\n",
            "Val loss 1.2005863104663466 val acc 0.6868131868131868 f1 0.8620689655172414\n",
            "\n",
            "Epoch 9/20\n",
            "----------\n",
            "Train loss 0.054824323896545825 train acc 0.5629578754578755 f1 0.9895191122071516\n",
            "Val loss 1.3070174961138274 val acc 0.6675824175824177 f1 0.8612099644128114\n",
            "\n",
            "Epoch 10/20\n",
            "----------\n",
            "Train loss 0.05626578343004306 train acc 0.5599053724053724 f1 0.9902423670129051\n",
            "Val loss 1.3754257263018466 val acc 0.6456043956043956 f1 0.8436363636363636\n",
            "\n",
            "Epoch 11/20\n",
            "----------\n",
            "Train loss 0.04084996128704672 train acc 0.5593711843711844 f1 0.9932598039215687\n",
            "Val loss 1.2755630970072083 val acc 0.6826923076923077 f1 0.8719723183391004\n",
            "\n",
            "Epoch 12/20\n",
            "----------\n",
            "Train loss 0.03729209571994455 train acc 0.5636446886446886 f1 0.9915662650602409\n",
            "Val loss 1.3563170878257116 val acc 0.6771978021978022 f1 0.8661971830985916\n",
            "\n",
            "Epoch 13/20\n",
            "----------\n",
            "Train loss 0.029393630993705833 train acc 0.5631105006105006 f1 0.9940081993062126\n",
            "Val loss 1.4145573098085942 val acc 0.6703296703296704 f1 0.8652482269503545\n",
            "\n",
            "Epoch 14/20\n",
            "----------\n",
            "Train loss 0.017654681586938704 train acc 0.5636446886446886 f1 0.9963658388855239\n",
            "Val loss 1.4614696053879173 val acc 0.6717032967032968 f1 0.8621908127208481\n",
            "\n",
            "Epoch 15/20\n",
            "----------\n",
            "Train loss 0.02884221093462235 train acc 0.566468253968254 f1 0.994856278366112\n",
            "Val loss 1.4905751575842379 val acc 0.6662087912087913 f1 0.8612099644128114\n",
            "\n",
            "Epoch 16/20\n",
            "----------\n",
            "Train loss 0.01708685212439244 train acc 0.5631105006105006 f1 0.9963144963144963\n",
            "Val loss 1.4947016110451405 val acc 0.6662087912087913 f1 0.8612099644128114\n",
            "\n",
            "Epoch 17/20\n",
            "----------\n",
            "Train loss 0.010946323474579514 train acc 0.5590659340659341 f1 0.9978573614937251\n",
            "Val loss 1.4947089925256518 val acc 0.6662087912087913 f1 0.8612099644128114\n",
            "\n",
            "Epoch 18/20\n",
            "----------\n",
            "Train loss 0.018544434853573898 train acc 0.5624236874236874 f1 0.9969135802469136\n",
            "Val loss 1.4947089925256518 val acc 0.6662087912087913 f1 0.8612099644128114\n",
            "\n",
            "Epoch 19/20\n",
            "----------\n",
            "Train loss 0.016656999863121975 train acc 0.5622710622710623 f1 0.9965200885795635\n",
            "Val loss 1.4947089925256518 val acc 0.6662087912087913 f1 0.8612099644128114\n",
            "\n",
            "Epoch 20/20\n",
            "----------\n",
            "Train loss 0.013784169387526628 train acc 0.5635683760683761 f1 0.997539975399754\n",
            "Val loss 1.4947089925256518 val acc 0.6662087912087913 f1 0.8612099644128114\n",
            "\n",
            "CPU times: user 39min 46s, sys: 17min 42s, total: 57min 29s\n",
            "Wall time: 57min 40s\n"
          ],
          "name": "stdout"
        }
      ]
    },
    {
      "cell_type": "code",
      "metadata": {
        "colab_type": "code",
        "id": "U8ZgcvqtDdYx",
        "outputId": "7c957d20-2f9f-4a65-ae67-dda84741dbe0",
        "colab": {
          "base_uri": "https://localhost:8080/",
          "height": 523
        }
      },
      "source": [
        "plt.plot(history['train_acc'], label='train acc')\n",
        "plt.plot(history['val_acc'], label='validation acc')\n",
        "\n",
        "plt.title('Training history')\n",
        "plt.ylabel('Accuracy')\n",
        "plt.xlabel('Epoch')\n",
        "plt.legend()\n",
        "plt.ylim([0.45, 0.8]);"
      ],
      "execution_count": 64,
      "outputs": [
        {
          "output_type": "display_data",
          "data": {
            "image/png": "[encoded data removed]",
            "text/plain": [
              "<Figure size 864x576 with 1 Axes>"
            ]
          },
          "metadata": {
            "tags": [],
            "image/png": {
              "width": 740,
              "height": 506
            }
          }
        }
      ]
    },
    {
      "cell_type": "code",
      "metadata": {
        "colab_type": "code",
        "id": "dbL-wN6fOM6U",
        "outputId": "43ea57cc-fa0a-425c-f030-7f4bb7812480",
        "colab": {
          "base_uri": "https://localhost:8080/",
          "height": 34
        }
      },
      "source": [
        "_, _, test_f1 = eval_model(\n",
        "  weekendmodel,\n",
        "  test_data_loader,\n",
        "  loss_fn,\n",
        "  device,\n",
        "  len(df_test)\n",
        ")\n",
        "\n",
        "test_f1.item()"
      ],
      "execution_count": 65,
      "outputs": [
        {
          "output_type": "execute_result",
          "data": {
            "text/plain": [
              "0.872852233676976"
            ]
          },
          "metadata": {
            "tags": []
          },
          "execution_count": 65
        }
      ]
    },
    {
      "cell_type": "code",
      "metadata": {
        "colab_type": "code",
        "id": "ccGQp-xLOSFh",
        "colab": {}
      },
      "source": [
        "def get_predictions(model, data_loader):\n",
        "  model = model.eval()\n",
        "  \n",
        "  predictions = []\n",
        "  prediction_probs = []\n",
        "  real_values = []\n",
        "\n",
        "  with torch.no_grad():\n",
        "    for d in data_loader:\n",
        "\n",
        "      input_ids = d[\"input_ids\"].to(device)\n",
        "      attention_mask = d[\"attention_mask\"].to(device)\n",
        "      targets = d[\"targets\"].to(device)\n",
        "      brand_category = d['brand_category'].to(device)\n",
        "\n",
        "\n",
        "      outputs = model(\n",
        "        input_ids=input_ids,\n",
        "        attention_mask=attention_mask,\n",
        "        category=brand_category\n",
        "      )\n",
        "\n",
        "      probs = torch.sigmoid(outputs)\n",
        "      preds = probs.ge(0.5).view(-1)\n",
        "      predictions.extend(preds)\n",
        "      prediction_probs.extend(probs)\n",
        "      real_values.extend(targets)\n",
        "\n",
        "  predictions = torch.stack(predictions).cpu()\n",
        "  prediction_probs = torch.stack(prediction_probs).cpu()\n",
        "  real_values = torch.stack(real_values).cpu()\n",
        "  return predictions, prediction_probs, real_values"
      ],
      "execution_count": 0,
      "outputs": []
    },
    {
      "cell_type": "code",
      "metadata": {
        "colab_type": "code",
        "id": "oS4pYVarOYJY",
        "colab": {}
      },
      "source": [
        "y_pred, y_pred_probs, y_test = get_predictions(\n",
        "  weekendmodel,\n",
        "  test_data_loader\n",
        ")"
      ],
      "execution_count": 0,
      "outputs": []
    },
    {
      "cell_type": "code",
      "metadata": {
        "colab_type": "code",
        "id": "p5etUVdCObHE",
        "outputId": "4c37c5e1-06d6-4ca7-901e-806f94c8c4a2",
        "colab": {
          "base_uri": "https://localhost:8080/",
          "height": 170
        }
      },
      "source": [
        "print(classification_report(y_test, y_pred, target_names=['1','0']))"
      ],
      "execution_count": 68,
      "outputs": [
        {
          "output_type": "stream",
          "text": [
            "              precision    recall  f1-score   support\n",
            "\n",
            "           1       0.61      0.43      0.51        44\n",
            "           0       0.84      0.91      0.87       139\n",
            "\n",
            "    accuracy                           0.80       183\n",
            "   macro avg       0.72      0.67      0.69       183\n",
            "weighted avg       0.78      0.80      0.78       183\n",
            "\n"
          ],
          "name": "stdout"
        }
      ]
    },
    {
      "cell_type": "code",
      "metadata": {
        "colab_type": "code",
        "id": "dBSKvXlDOmNY",
        "colab": {
          "base_uri": "https://localhost:8080/",
          "height": 509
        },
        "outputId": "713d50ae-cb5a-4b9a-acd1-5bd116bbf1f1"
      },
      "source": [
        "def show_confusion_matrix(confusion_matrix):\n",
        "  hmap = sns.heatmap(confusion_matrix, annot=True, fmt=\"d\", cmap=\"Blues\")\n",
        "  hmap.yaxis.set_ticklabels(hmap.yaxis.get_ticklabels(), rotation=0, ha='right')\n",
        "  hmap.xaxis.set_ticklabels(hmap.xaxis.get_ticklabels(), rotation=30, ha='right')\n",
        "  plt.ylabel('True Weekend')\n",
        "  plt.xlabel('Predicted Weekend');\n",
        "\n",
        "cm = confusion_matrix(y_test, y_pred)\n",
        "df_cm = pd.DataFrame(cm, index=['1','0'], columns=['1','0'])\n",
        "show_confusion_matrix(df_cm)"
      ],
      "execution_count": 70,
      "outputs": [
        {
          "output_type": "display_data",
          "data": {
            "image/png": "[encoded data removed]",
            "text/plain": [
              "<Figure size 864x576 with 2 Axes>"
            ]
          },
          "metadata": {
            "tags": [],
            "image/png": {
              "width": 675,
              "height": 492
            }
          }
        }
      ]
    },
    {
      "cell_type": "markdown",
      "metadata": {
        "id": "4Tfz8ZLi36rE",
        "colab_type": "text"
      },
      "source": [
        "# Deploy"
      ]
    },
    {
      "cell_type": "code",
      "metadata": {
        "id": "UgfjgZ1V_rLn",
        "colab_type": "code",
        "colab": {}
      },
      "source": [
        "class_weights = 1 / attributes_df['weekend_target'].value_counts()\n",
        "class_index = attributes_df['weekend_target'].value_counts().index\n",
        "weights_map = {class_index[i]:class_weights.iloc[i] for i in range(len(class_index))}\n",
        "class_weights_all = attributes_df['weekend_target'].map(weights_map).tolist()\n",
        "weighted_sampler = WeightedRandomSampler(\n",
        "    weights=class_weights_all,\n",
        "    num_samples=len(class_weights_all),\n",
        "    replacement=True)\n",
        "full_data_loader = create_data_loader(attributes_df, 'weekend_target', tokenizer, MAXLEN, BATCH_SIZE, categories=categories, weighted_sampler=weighted_sampler)"
      ],
      "execution_count": 0,
      "outputs": []
    },
    {
      "cell_type": "code",
      "metadata": {
        "id": "QQjEWsTH_bRM",
        "colab_type": "code",
        "colab": {}
      },
      "source": [
        "final_weekend_model = BERTBaseUncased(dropout=dropout)\n",
        "final_weekend_model = final_weekend_model.to(device)"
      ],
      "execution_count": 0,
      "outputs": []
    },
    {
      "cell_type": "code",
      "metadata": {
        "id": "mlldGlcTIXFn",
        "colab_type": "code",
        "colab": {}
      },
      "source": [
        "#define optimizer, scheduler, loss function \n",
        "EPOCHS = 10\n",
        "optimizer = AdamW(final_weekend_model.parameters(),\n",
        "          lr=2e-5,\n",
        "          correct_bias=False)\n",
        "total_steps = len(full_data_loader) * EPOCHS\n",
        "\n",
        "scheduler = get_linear_schedule_with_warmup(\n",
        "    optimizer,\n",
        "    num_warmup_steps=0,\n",
        "    num_training_steps=total_steps)\n",
        "\n",
        "loss_fn = nn.BCEWithLogitsLoss().to(device)"
      ],
      "execution_count": 0,
      "outputs": []
    },
    {
      "cell_type": "code",
      "metadata": {
        "id": "SWrrHVku4H-u",
        "colab_type": "code",
        "colab": {
          "base_uri": "https://localhost:8080/",
          "height": 561
        },
        "outputId": "7b862097-b38f-4682-8043-091f712197ee"
      },
      "source": [
        "%%time\n",
        "\n",
        "history = defaultdict(list)\n",
        "\n",
        "for epoch in range(EPOCHS):\n",
        "\n",
        "  print(f'Epoch {epoch + 1}/{EPOCHS}')\n",
        "  print('-' * 10)\n",
        "\n",
        "  train_acc, train_loss, train_f1 = train_epoch(\n",
        "    final_weekend_model,\n",
        "    full_data_loader,    \n",
        "    loss_fn, \n",
        "    optimizer, \n",
        "    device, \n",
        "    scheduler, \n",
        "    len(attributes_df)\n",
        "  )\n",
        "  print(f'Train loss {train_loss} accuracy {train_acc} f1 {train_f1}')\n",
        "\n",
        "  history['train_f1'].append(train_f1)\n",
        "  history['train_acc'].append(train_acc)\n",
        "  history['train_loss'].append(train_loss)\n",
        "torch.save(final_weekend_model.state_dict(), 'final_weekend_model_state.bin')"
      ],
      "execution_count": 77,
      "outputs": [
        {
          "output_type": "stream",
          "text": [
            "Epoch 1/10\n",
            "----------\n",
            "Train loss 0.6958004663649359 accuracy 0.49691018950837684 f10.4717647058823529\n",
            "Epoch 2/10\n",
            "----------\n",
            "Train loss 0.6918920394882822 accuracy 0.4965668772315298 f10.5583501006036218\n",
            "Epoch 3/10\n",
            "----------\n",
            "Train loss 0.6652705811225531 accuracy 0.5104366932161494 f10.5723342939481268\n",
            "Epoch 4/10\n",
            "----------\n",
            "Train loss 0.5348481867266329 accuracy 0.5354984894259819 f10.7714817770683693\n",
            "Epoch 5/10\n",
            "----------\n",
            "Train loss 0.4643472102062221 accuracy 0.5389316121944521 f10.8182801514332072\n",
            "Epoch 6/10\n",
            "----------\n",
            "Train loss 0.37231805165739434 accuracy 0.5394809118374073 f10.8671831765356947\n",
            "Epoch 7/10\n",
            "----------\n",
            "Train loss 0.29984057068890124 accuracy 0.5481323812139522 f10.9055007052186177\n",
            "Epoch 8/10\n",
            "----------\n",
            "Train loss 0.25490567582790136 accuracy 0.5498489425981873 f10.9264044943820225\n",
            "Epoch 9/10\n",
            "----------\n",
            "Train loss 0.22052486909128594 accuracy 0.5522521285361165 f10.9392826885060718\n",
            "Epoch 10/10\n",
            "----------\n",
            "Train loss 0.1791477819063227 accuracy 0.5547926393847844 f10.9533592448639646\n",
            "CPU times: user 21min 53s, sys: 9min 41s, total: 31min 35s\n",
            "Wall time: 31min 41s\n"
          ],
          "name": "stdout"
        }
      ]
    },
    {
      "cell_type": "code",
      "metadata": {
        "id": "zt4nCuuu6Pqi",
        "colab_type": "code",
        "colab": {}
      },
      "source": [
        "from google.colab import files\n",
        "files.download('weekend_model_state.bin')\n",
        "files.download('final_weekend_model_state.bin')"
      ],
      "execution_count": 0,
      "outputs": []
    },
    {
      "cell_type": "markdown",
      "metadata": {
        "id": "7O5baRS8SgLk",
        "colab_type": "text"
      },
      "source": [
        "Lower accuracy model with decent F1 score because trained with weighted sampler. This model will have a good tradeoff between precision/recall instead of predicting all 0's if without weighted sampler that optimizes for accuracy."
      ]
    }
  ]
}