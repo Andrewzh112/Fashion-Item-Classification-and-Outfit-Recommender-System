{
 "cells": [
  {
   "cell_type": "code",
   "execution_count": 1,
   "metadata": {
    "colab": {
     "base_uri": "https://localhost:8080/",
     "height": 306
    },
    "colab_type": "code",
    "id": "jPC9Hq_wchg-",
    "outputId": "8ec840d2-83f0-440b-8250-1075f380dc48"
   },
   "outputs": [
    {
     "name": "stdout",
     "output_type": "stream",
     "text": [
      "Sun May  3 18:33:06 2020       \n",
      "+-----------------------------------------------------------------------------+\n",
      "| NVIDIA-SMI 440.64.00    Driver Version: 418.67       CUDA Version: 10.1     |\n",
      "|-------------------------------+----------------------+----------------------+\n",
      "| GPU  Name        Persistence-M| Bus-Id        Disp.A | Volatile Uncorr. ECC |\n",
      "| Fan  Temp  Perf  Pwr:Usage/Cap|         Memory-Usage | GPU-Util  Compute M. |\n",
      "|===============================+======================+======================|\n",
      "|   0  Tesla T4            Off  | 00000000:00:04.0 Off |                    0 |\n",
      "| N/A   57C    P8    10W /  70W |      0MiB / 15079MiB |      0%      Default |\n",
      "+-------------------------------+----------------------+----------------------+\n",
      "                                                                               \n",
      "+-----------------------------------------------------------------------------+\n",
      "| Processes:                                                       GPU Memory |\n",
      "|  GPU       PID   Type   Process name                             Usage      |\n",
      "|=============================================================================|\n",
      "|  No running processes found                                                 |\n",
      "+-----------------------------------------------------------------------------+\n"
     ]
    }
   ],
   "source": [
    "!nvidia-smi"
   ]
  },
  {
   "cell_type": "code",
   "execution_count": null,
   "metadata": {
    "colab": {
     "base_uri": "https://localhost:8080/",
     "height": 683
    },
    "colab_type": "code",
    "id": "O_3DVGWwcqdo",
    "outputId": "b093039a-8a25-4cd0-f975-d2f995705e11"
   },
   "outputs": [],
   "source": [
    "!pip install transformers"
   ]
  },
  {
   "cell_type": "code",
   "execution_count": 1,
   "metadata": {
    "cellView": "form",
    "colab": {
     "base_uri": "https://localhost:8080/",
     "height": 88
    },
    "colab_type": "code",
    "id": "OkKTGqR1Q-Kv",
    "outputId": "856aa116-945d-4850-fb81-bdd21b54ba8b"
   },
   "outputs": [
    {
     "data": {
      "text/plain": [
       "device(type='cpu')"
      ]
     },
     "execution_count": 1,
     "metadata": {},
     "output_type": "execute_result"
    }
   ],
   "source": [
    "#@title Setup & Config\n",
    "import transformers\n",
    "from transformers import BertModel, BertTokenizer, AdamW, get_linear_schedule_with_warmup\n",
    "\n",
    "import numpy as np\n",
    "import pandas as pd\n",
    "import seaborn as sns\n",
    "from pylab import rcParams\n",
    "import matplotlib.pyplot as plt\n",
    "import matplotlib.pyplot as plt\n",
    "from matplotlib import rc\n",
    "from sklearn.model_selection import train_test_split\n",
    "from sklearn.metrics import confusion_matrix, classification_report\n",
    "from collections import defaultdict\n",
    "from textwrap import wrap\n",
    "\n",
    "from string import digits\n",
    "import re\n",
    "\n",
    "import torch\n",
    "from torch import nn, optim\n",
    "from torch.utils.data import Dataset, DataLoader, WeightedRandomSampler\n",
    "import torch.nn.functional as F\n",
    "from torch.autograd import Variable\n",
    "\n",
    "%matplotlib inline\n",
    "%config InlineBackend.figure_format='retina'\n",
    "\n",
    "rcParams['figure.figsize'] = 12, 8\n",
    "\n",
    "RANDOM_SEED = 24\n",
    "np.random.seed(RANDOM_SEED)\n",
    "torch.manual_seed(RANDOM_SEED)\n",
    "PRE_TRAINED_MODEL = 'bert-base-uncased'\n",
    "BATCH_SIZE = 8\n",
    "\n",
    "device = torch.device(\"cuda:0\" if torch.cuda.is_available() else \"cpu\")\n",
    "device"
   ]
  },
  {
   "cell_type": "markdown",
   "metadata": {},
   "source": [
    "Special thanks to Venelin Valkov on Youtube for part of the code"
   ]
  },
  {
   "cell_type": "markdown",
   "metadata": {
    "colab_type": "text",
    "id": "IE3M5t35H3Ao"
   },
   "source": [
    "# Max token length"
   ]
  },
  {
   "cell_type": "code",
   "execution_count": null,
   "metadata": {
    "colab": {},
    "colab_type": "code",
    "id": "q6ifHIvy5A_1"
   },
   "outputs": [],
   "source": [
    "MAXLEN = 150"
   ]
  },
  {
   "cell_type": "code",
   "execution_count": null,
   "metadata": {
    "colab": {},
    "colab_type": "code",
    "id": "i0u7x0fjqJDN"
   },
   "outputs": [],
   "source": [
    "attributes_df=pd.read_csv('attributes_df.csv')\n",
    "style_df=pd.read_csv('style_df.csv')\n",
    "#tagged_products_df=pd.read_csv('tagged_products_df.csv')"
   ]
  },
  {
   "cell_type": "code",
   "execution_count": null,
   "metadata": {
    "colab": {},
    "colab_type": "code",
    "id": "2eHfTZNc367L"
   },
   "outputs": [],
   "source": [
    "cols = ['description','product_full_name']#, 'brand', 'name']\n",
    "tokenizer = BertTokenizer.from_pretrained(PRE_TRAINED_MODEL)"
   ]
  },
  {
   "cell_type": "code",
   "execution_count": null,
   "metadata": {
    "colab": {},
    "colab_type": "code",
    "id": "ZaMpd4_V3FwF"
   },
   "outputs": [],
   "source": [
    "def token_length(row, cols, tokenizer):\n",
    "  token_len = 0\n",
    "  for col in cols:\n",
    "    token_len += len(tokenizer.encode(str(row[col]), max_length=512))\n",
    "  return token_len"
   ]
  },
  {
   "cell_type": "code",
   "execution_count": null,
   "metadata": {
    "colab": {},
    "colab_type": "code",
    "id": "YU-_QFWn23IZ"
   },
   "outputs": [],
   "source": [
    "token_lens = attributes_df.apply(lambda row: token_length(row, cols, tokenizer), axis=1)"
   ]
  },
  {
   "cell_type": "markdown",
   "metadata": {
    "colab_type": "text",
    "id": "smAgtQLU-gbd"
   },
   "source": [
    "***Here we can do something to see how to shrink the longer token len rows***"
   ]
  },
  {
   "cell_type": "code",
   "execution_count": 206,
   "metadata": {
    "colab": {
     "base_uri": "https://localhost:8080/",
     "height": 523
    },
    "colab_type": "code",
    "id": "0NITi7404wnJ",
    "outputId": "2c584458-6a1a-45dc-89bc-43b60bcf5bb2"
   },
   "outputs": [
    {
     "data": {
      "text/plain": [
       "Text(0.5, 0, 'Token count')"
      ]
     },
     "execution_count": 206,
     "metadata": {
      "tags": []
     },
     "output_type": "execute_result"
    },
    {
     "data": {
      "image/png": "[encoded data removed]",
      "text/plain": [
       "<Figure size 864x576 with 1 Axes>"
      ]
     },
     "metadata": {
      "image/png": {
       "height": 489,
       "width": 743
      },
      "tags": []
     },
     "output_type": "display_data"
    }
   ],
   "source": [
    "sns.distplot(token_lens)\n",
    "plt.xlim([0, 300]);\n",
    "plt.xlabel('Token count')"
   ]
  },
  {
   "cell_type": "markdown",
   "metadata": {
    "colab_type": "text",
    "id": "0FYrzQVXDp9_"
   },
   "source": [
    "# Bert models"
   ]
  },
  {
   "cell_type": "code",
   "execution_count": null,
   "metadata": {
    "colab": {},
    "colab_type": "code",
    "id": "ezCR9G9Fceli"
   },
   "outputs": [],
   "source": [
    "class BERTBaseUncasedCNN(nn.Module):\n",
    "  def __init__(self, embed_num, embed_dim, class_num, kernel_num, kernel_sizes, dropout, static):\n",
    "    super(BERTBaseUncased, self).__init__()\n",
    "    self.bert = transformers.BertModel.from_pretrained(PRE_TRAINED_MODEL)\n",
    "    self.V = embed_num\n",
    "    self.D = embed_dim\n",
    "    self.C = class_num\n",
    "    self.Co = kernel_num\n",
    "    self.Ks = kernel_sizes\n",
    "    self.static = static\n",
    "    self.convs1 = nn.ModuleList([nn.Conv2d(1, self.Co, (K, self.D)) for K in self.Ks])\n",
    "    self.dropout = nn.Dropout(dropout)\n",
    "    self.fc1 = nn.Linear(len(self.Ks) * self.Co + len(categories) + 1, self.C)\n",
    "\n",
    "  def forward(self, input_ids, attention_mask, token_type_ids, brand, category):\n",
    "    x, _ = self.bert(\n",
    "        input_ids=input_ids, \n",
    "        attention_mask=attention_mask, \n",
    "        token_type_ids=token_type_ids)\n",
    "    if self.static:\n",
    "      x = Variable(x)\n",
    "    x = x.unsqueeze(1)\n",
    "    x = [F.relu(conv(x)).squeeze(3) for conv in self.convs1]\n",
    "    x = [F.max_pool1d(i, i.size(2)).squeeze(2) for i in x]\n",
    "    x = torch.cat(x, 1)\n",
    "    x = torch.cat((brand.view(-1,1),x),dim=1)\n",
    "    x = torch.cat((category.view(-1,len(categories)),x),dim=1)\n",
    "    x = self.dropout(x)\n",
    "    x = x.view(-1, len(self.Ks) * self.Co + len(categories) + 1)\n",
    "    return self.fc1(x)\n",
    "  def resize_token_embeddings(self, tokenizer_len):\n",
    "    self.bert.resize_token_embeddings(tokenizer_len)"
   ]
  },
  {
   "cell_type": "code",
   "execution_count": null,
   "metadata": {
    "colab": {},
    "colab_type": "code",
    "id": "o6-5tXpwcelk"
   },
   "outputs": [],
   "source": [
    "class BERTBaseUncased(nn.Module):\n",
    "  def __init__(self, embed_num, embed_dim, class_num, kernel_num, kernel_sizes, dropout, static):\n",
    "    super(BERTBaseUncased, self).__init__()\n",
    "    self.bert = transformers.BertModel.from_pretrained(PRE_TRAINED_MODEL)\n",
    "    self.cat_len = len(categories)\n",
    "    self.dropout = nn.Dropout(p=dropout)\n",
    "    self.hidden1 = nn.Linear(self.bert.config.hidden_size + self.cat_len + 1, 64)\n",
    "    self.hidden2 = nn.Linear(64, 16)\n",
    "    self.out = nn.Linear(16, 1)\n",
    "\n",
    "  def forward(self, input_ids, attention_mask, token_type_ids, brand, category):\n",
    "    _, x = self.bert(\n",
    "        input_ids=input_ids, \n",
    "        attention_mask=attention_mask, \n",
    "        token_type_ids=token_type_ids)\n",
    "    x = torch.cat((brand.view(-1,1),x),dim=1)\n",
    "    x = torch.cat((category.view(-1,self.cat_len),x),dim=1)\n",
    "    x = self.dropout(x)\n",
    "    x = x.view(-1, self.bert.config.hidden_size + self.cat_len + 1)\n",
    "    x = self.hidden1(x)\n",
    "    x = self.hidden2(x)\n",
    "    return self.out(x)\n",
    "  def resize_token_embeddings(self, tokenizer_len):\n",
    "    self.bert.resize_token_embeddings(tokenizer_len)"
   ]
  },
  {
   "cell_type": "code",
   "execution_count": null,
   "metadata": {
    "colab": {},
    "colab_type": "code",
    "id": "MQ7tx2Yu6gBi"
   },
   "outputs": [],
   "source": [
    "class Clothberta(nn.Module):\n",
    "  def __init__(self, dropout):\n",
    "    super(Clothberta, self).__init__()\n",
    "    self.roberta = transformers.RobertaModel.from_pretrained('/content/weights/')\n",
    "    self.cat_len = len(categories)\n",
    "    self.dropout = nn.Dropout(p=dropout)\n",
    "    self.hidden1 = nn.Linear(self.roberta.config.hidden_size + self.cat_len + 1, 64)\n",
    "    self.hidden2 = nn.Linear(64, 16)\n",
    "    self.out = nn.Linear(16, 1)\n",
    "\n",
    "  def forward(self, input_ids, attention_mask, brand, category):\n",
    "    _, x = self.roberta(\n",
    "        input_ids=input_ids, \n",
    "        attention_mask=attention_mask)\n",
    "    x = torch.cat((brand.view(-1,1),x),dim=1)\n",
    "    x = torch.cat((category.view(-1,self.cat_len),x),dim=1)\n",
    "    x = self.dropout(x)\n",
    "    x = x.view(-1, self.roberta.config.hidden_size + self.cat_len + 1)\n",
    "    x = self.hidden1(x)\n",
    "    x = self.hidden2(x)\n",
    "    return self.out(x)\n",
    "  def resize_token_embeddings(self, tokenizer_len):\n",
    "    self.roberta.resize_token_embeddings(tokenizer_len)"
   ]
  },
  {
   "cell_type": "code",
   "execution_count": null,
   "metadata": {
    "colab": {},
    "colab_type": "code",
    "id": "utsIcYfmRce-"
   },
   "outputs": [],
   "source": [
    "class StyleDataLoader:\n",
    "  def __init__(self, item_desc, brand, brand_category, name, targets, tokenizer, max_length):\n",
    "    self.item_desc = item_desc\n",
    "    self.brand = brand\n",
    "    self.brand_category = brand_category\n",
    "    self.name = name\n",
    "    self.tokenizer = tokenizer\n",
    "    self.max_length = max_length\n",
    "    self.targets = targets\n",
    "  \n",
    "  def __len__(self):\n",
    "    return len(self.item_desc)\n",
    "    \n",
    "  def __getitem__(self, item):\n",
    "    item_description = str(self.item_desc[item])\n",
    "    item_brand = self.brand[item]\n",
    "    item_brand_category = self.brand_category[item]\n",
    "    item_name = str(self.name[item])\n",
    "    target = self.targets[item]\n",
    "\n",
    "    encoding = self.tokenizer.encode_plus(\n",
    "        item_description, item_name,\n",
    "        max_length=self.max_length,\n",
    "        add_special_tokens=True,\n",
    "        pad_to_max_length=True,\n",
    "        return_attention_mask=True,\n",
    "        return_tensors='pt'\n",
    "    )\n",
    "\n",
    "    return {\n",
    "        'input_ids': encoding['input_ids'].flatten(),\n",
    "        #'token_type_ids': encoding['token_type_ids'].flatten(),\n",
    "        'attention_mask': encoding['attention_mask'].flatten(),\n",
    "        'targets': torch.tensor(target, dtype=torch.long),\n",
    "        'brand':torch.tensor(item_brand, dtype=torch.float),\n",
    "        'brand_category':torch.tensor(item_brand_category, dtype=torch.float)\n",
    "    }"
   ]
  },
  {
   "cell_type": "code",
   "execution_count": null,
   "metadata": {
    "colab": {},
    "colab_type": "code",
    "id": "0EoaBTSKD4ZC"
   },
   "outputs": [],
   "source": [
    "#tokenizer = transformers.RobertaTokenizer.from_pretrained('/content/weights/',max_len=MAXLEN)"
   ]
  },
  {
   "cell_type": "code",
   "execution_count": null,
   "metadata": {
    "colab": {},
    "colab_type": "code",
    "id": "BFN4i-LP7TK6"
   },
   "outputs": [],
   "source": [
    "df_train, df_val = train_test_split(attributes_df, stratify=attributes_df.weekend_target,random_state=RANDOM_SEED, test_size=0.1)\n",
    "df_val, df_test = train_test_split(df_val, stratify=df_val.weekend_target,random_state=RANDOM_SEED, test_size=0.5)"
   ]
  },
  {
   "cell_type": "code",
   "execution_count": 288,
   "metadata": {
    "colab": {
     "base_uri": "https://localhost:8080/",
     "height": 34
    },
    "colab_type": "code",
    "id": "C-5VB2aE718L",
    "outputId": "15d6a25e-8b89-4a65-8ebf-e9cf61169a8c"
   },
   "outputs": [
    {
     "data": {
      "text/plain": [
       "((3276, 188), (182, 188), (183, 188))"
      ]
     },
     "execution_count": 288,
     "metadata": {
      "tags": []
     },
     "output_type": "execute_result"
    }
   ],
   "source": [
    "df_train.shape, df_val.shape, df_test.shape"
   ]
  },
  {
   "cell_type": "code",
   "execution_count": null,
   "metadata": {
    "colab": {},
    "colab_type": "code",
    "id": "b-wMcpIgTHKf"
   },
   "outputs": [],
   "source": [
    "categories = df_train.iloc[:,11:-1].columns.tolist()"
   ]
  },
  {
   "cell_type": "code",
   "execution_count": null,
   "metadata": {
    "colab": {},
    "colab_type": "code",
    "id": "cEhWrR-C8Eam"
   },
   "outputs": [],
   "source": [
    "def create_data_loader(df, target, tokenizer, max_len, batch_size, categories, weighted_sampler=None):\n",
    "  dataset = StyleDataLoader(item_desc=df.description.to_numpy(),\n",
    "                brand=df.brand_le.to_numpy(),\n",
    "                brand_category=df[categories].to_numpy(),\n",
    "                name=df.product_full_name.to_numpy(),\n",
    "                targets=df[target].to_numpy().reshape(-1,1),\n",
    "                tokenizer=tokenizer,\n",
    "                max_length=MAXLEN)\n",
    "  return DataLoader(\n",
    "      dataset,\n",
    "      sampler=weighted_sampler,\n",
    "      batch_size=batch_size)"
   ]
  },
  {
   "cell_type": "code",
   "execution_count": null,
   "metadata": {
    "colab": {},
    "colab_type": "code",
    "id": "luN_il6CdYyu"
   },
   "outputs": [],
   "source": [
    "class_weights = 1 / df_train['weekend_target'].value_counts()\n",
    "class_index = df_train['weekend_target'].value_counts().index\n",
    "weights_map = {class_index[i]:class_weights.iloc[i] for i in range(len(class_index))}\n",
    "class_weights_all = df_train['weekend_target'].map(weights_map).tolist()"
   ]
  },
  {
   "cell_type": "code",
   "execution_count": null,
   "metadata": {
    "colab": {},
    "colab_type": "code",
    "id": "TMVFpJyahMhS"
   },
   "outputs": [],
   "source": [
    "weighted_sampler = WeightedRandomSampler(\n",
    "    weights=class_weights_all,\n",
    "    num_samples=len(class_weights_all),\n",
    "    replacement=True\n",
    ")"
   ]
  },
  {
   "cell_type": "code",
   "execution_count": null,
   "metadata": {
    "colab": {},
    "colab_type": "code",
    "id": "4xXYweMI9cts"
   },
   "outputs": [],
   "source": [
    "train_data_loader = create_data_loader(df_train, 'weekend_target', tokenizer, MAXLEN, BATCH_SIZE, categories=categories)#, weighted_sampler=weighted_sampler)\n",
    "val_data_loader = create_data_loader(df_val, 'weekend_target', tokenizer, MAXLEN, BATCH_SIZE, categories=categories)\n",
    "test_data_loader = create_data_loader(df_test, 'weekend_target', tokenizer, MAXLEN, BATCH_SIZE, categories=categories)"
   ]
  },
  {
   "cell_type": "code",
   "execution_count": null,
   "metadata": {
    "colab": {},
    "colab_type": "code",
    "id": "HSDzd-LqBgcs"
   },
   "outputs": [],
   "source": [
    "embed_num = MAXLEN\n",
    "embed_dim = transformers.BertModel.from_pretrained(PRE_TRAINED_MODEL).config.hidden_size\n",
    "class_num = 1\n",
    "kernel_num = 3\n",
    "kernel_sizes = [2,3,4]\n",
    "dropout = 0.3\n",
    "static = True\n",
    "weekendmodel = BERTBaseUncased(\n",
    "    embed_num=embed_num, \n",
    "    embed_dim=embed_dim, \n",
    "    class_num=class_num, \n",
    "    kernel_num=kernel_num, \n",
    "    kernel_sizes=kernel_sizes, \n",
    "    dropout=dropout, \n",
    "    static=static)\n",
    "weekendmodel = weekendmodel.to(device)"
   ]
  },
  {
   "cell_type": "code",
   "execution_count": null,
   "metadata": {
    "colab": {},
    "colab_type": "code",
    "id": "Ytn3PJ0jSje8"
   },
   "outputs": [],
   "source": [
    "# num_added_toks = tokenizer.add_tokens(['CATEGORY_TOKEN', 'NAME_TOKEN'])\n",
    "# weekendmodel.resize_token_embeddings(len(tokenizer))"
   ]
  },
  {
   "cell_type": "code",
   "execution_count": null,
   "metadata": {
    "colab": {},
    "colab_type": "code",
    "id": "XvLgZ-FbCMLL"
   },
   "outputs": [],
   "source": [
    "EPOCHS = 20\n",
    "optimizer = AdamW(weekendmodel.parameters(),\n",
    "          lr=2e-5,\n",
    "          correct_bias=False)\n",
    "total_steps = len(train_data_loader) * EPOCHS\n",
    "\n",
    "scheduler = get_linear_schedule_with_warmup(\n",
    "    optimizer,\n",
    "    num_warmup_steps=0,\n",
    "    num_training_steps=total_steps)\n",
    "\n",
    "loss_fn = nn.BCEWithLogitsLoss().to(device)"
   ]
  },
  {
   "cell_type": "code",
   "execution_count": null,
   "metadata": {
    "colab": {},
    "colab_type": "code",
    "id": "slJpzrRgBISr"
   },
   "outputs": [],
   "source": [
    "def get_accuracy(y_true, y_pred):\n",
    "  return (y_true == y_pred).sum().float() / len(y_true)"
   ]
  },
  {
   "cell_type": "code",
   "execution_count": null,
   "metadata": {
    "colab": {},
    "colab_type": "code",
    "id": "LxiNBnosC1Me"
   },
   "outputs": [],
   "source": [
    "def train_epoch(model, data_loader, loss_fn, optimizer, \n",
    "        device, scheduler, n_examples):\n",
    "  model = model.train()\n",
    "  \n",
    "  losses = []\n",
    "  corrected_predictions = 0\n",
    "\n",
    "  for d in data_loader:\n",
    "    input_ids = d['input_ids'].to(device)\n",
    "    attention_mask = d['attention_mask'].to(device)\n",
    "    #token_type_ids = d['token_type_ids'].to(device)\n",
    "    targets = d['targets'].to(device)\n",
    "    brand = d['brand'].to(device)\n",
    "    brand_category = d['brand_category'].to(device)\n",
    "\n",
    "    outputs = model(\n",
    "      input_ids=input_ids,\n",
    "      #token_type_ids=token_type_ids,\n",
    "      attention_mask=attention_mask,\n",
    "      brand=brand,\n",
    "      category=brand_category\n",
    "    )\n",
    "\n",
    "\n",
    "    preds = torch.sigmoid(outputs).ge(0.5).view(-1)#torch.squeeze(torch.sigmoid(outputs))\n",
    "    loss = loss_fn(outputs, targets.type_as(outputs))\n",
    "\n",
    "    corrected_predictions += get_accuracy(targets, preds)\n",
    "    losses.append(loss.item())\n",
    "\n",
    "    loss.backward()\n",
    "    # clipping grads for to prevent exploding grad\n",
    "    nn.utils.clip_grad_norm_(model.parameters(), max_norm=1.0)\n",
    "    \n",
    "    optimizer.step()\n",
    "    scheduler.step()\n",
    "    optimizer.zero_grad()\n",
    "\n",
    "  return corrected_predictions.double() / n_examples, np.mean(losses)"
   ]
  },
  {
   "cell_type": "code",
   "execution_count": null,
   "metadata": {
    "colab": {},
    "colab_type": "code",
    "id": "ZLrtuLShDS7x"
   },
   "outputs": [],
   "source": [
    "def eval_model(model, data_loader, loss_fn, device, n_examples):\n",
    "  model = model.eval()\n",
    "\n",
    "  losses = []\n",
    "  correct_predictions = 0\n",
    "\n",
    "  with torch.no_grad():\n",
    "    for d in data_loader:\n",
    "      input_ids = d['input_ids'].to(device)\n",
    "      attention_mask = d['attention_mask'].to(device)\n",
    "      #token_type_ids = d['token_type_ids'].to(device)\n",
    "      targets = d['targets'].to(device)\n",
    "      brand = d['brand'].to(device)\n",
    "      brand_category = d['brand_category'].to(device)\n",
    "\n",
    "      outputs = model(\n",
    "        input_ids=input_ids,\n",
    "        #token_type_ids=token_type_ids,\n",
    "        attention_mask=attention_mask,\n",
    "        brand=brand,\n",
    "        category=brand_category\n",
    "      )\n",
    "      preds = torch.sigmoid(outputs).ge(0.5).view(-1)#torch.squeeze(torch.sigmoid(outputs))\n",
    "      loss = loss_fn(outputs, targets.type_as(outputs))\n",
    "\n",
    "      correct_predictions += get_accuracy(targets, preds)\n",
    "      losses.append(loss.item())\n",
    "\n",
    "  return correct_predictions.double() / n_examples, np.mean(losses)"
   ]
  },
  {
   "cell_type": "code",
   "execution_count": null,
   "metadata": {
    "colab": {},
    "colab_type": "code",
    "id": "Z7-f-lOHLld1"
   },
   "outputs": [],
   "source": [
    "torch.cuda.empty_cache()"
   ]
  },
  {
   "cell_type": "code",
   "execution_count": null,
   "metadata": {
    "colab": {},
    "colab_type": "code",
    "id": "q-Fwxc2WDXXC"
   },
   "outputs": [],
   "source": [
    "def train(model):\n",
    "  %%time\n",
    "\n",
    "  history = defaultdict(list)\n",
    "  best_accuracy = 0\n",
    "\n",
    "  for epoch in range(EPOCHS):\n",
    "\n",
    "    print(f'Epoch {epoch + 1}/{EPOCHS}')\n",
    "    print('-' * 10)\n",
    "\n",
    "    train_acc, train_loss = train_epoch(\n",
    "      model,\n",
    "      train_data_loader,    \n",
    "      loss_fn, \n",
    "      optimizer, \n",
    "      device, \n",
    "      scheduler, \n",
    "      len(df_train)\n",
    "    )\n",
    "\n",
    "    print(f'Train loss {train_loss} accuracy {train_acc}')\n",
    "\n",
    "    val_acc, val_loss = eval_model(\n",
    "      model,\n",
    "      val_data_loader,\n",
    "      loss_fn, \n",
    "      device, \n",
    "      len(df_val)\n",
    "    )\n",
    "\n",
    "    print(f'Val   loss {val_loss} accuracy {val_acc}')\n",
    "    print()\n",
    "\n",
    "    history['train_acc'].append(train_acc)\n",
    "    history['train_loss'].append(train_loss)\n",
    "    history['val_acc'].append(val_acc)\n",
    "    history['val_loss'].append(val_loss)\n",
    "\n",
    "    if val_acc > best_accuracy:\n",
    "      torch.save(weekendmodel.state_dict(), 'weekend_model_state.bin')\n",
    "      best_accuracy = val_acc"
   ]
  },
  {
   "cell_type": "code",
   "execution_count": null,
   "metadata": {
    "colab": {
     "base_uri": "https://localhost:8080/",
     "height": 523
    },
    "colab_type": "code",
    "id": "U8ZgcvqtDdYx",
    "outputId": "e5b8adbe-e9f7-4e7c-8991-8508daf7a6c9"
   },
   "outputs": [
    {
     "data": {
      "image/png": "[encoded data removed]",
      "text/plain": [
       "<Figure size 864x576 with 1 Axes>"
      ]
     },
     "metadata": {
      "image/png": {
       "height": 503,
       "width": 728
      },
      "tags": []
     },
     "output_type": "display_data"
    }
   ],
   "source": [
    "plt.plot(history['train_acc'], label='train accuracy')\n",
    "plt.plot(history['val_acc'], label='validation accuracy')\n",
    "\n",
    "plt.title('Training history')\n",
    "plt.ylabel('Accuracy')\n",
    "plt.xlabel('Epoch')\n",
    "plt.legend()\n",
    "plt.ylim([0, 1]);"
   ]
  },
  {
   "cell_type": "code",
   "execution_count": null,
   "metadata": {},
   "outputs": [],
   "source": [
    "test_acc, _ = eval_model(\n",
    "  weekendmodel,\n",
    "  test_data_loader,\n",
    "  loss_fn,\n",
    "  device,\n",
    "  len(df_test)\n",
    ")\n",
    "\n",
    "test_acc.item()"
   ]
  },
  {
   "cell_type": "code",
   "execution_count": null,
   "metadata": {
    "colab": {},
    "colab_type": "code",
    "id": "ccGQp-xLOSFh"
   },
   "outputs": [],
   "source": [
    "def get_predictions(model, data_loader):\n",
    "  model = model.eval()\n",
    "  \n",
    "  predictions = []\n",
    "  prediction_probs = []\n",
    "  real_values = []\n",
    "\n",
    "  with torch.no_grad():\n",
    "    for d in data_loader:\n",
    "\n",
    "      input_ids = d[\"input_ids\"].to(device)\n",
    "      attention_mask = d[\"attention_mask\"].to(device)\n",
    "      targets = d[\"targets\"].to(device)\n",
    "      token_type_ids = d['token_type_ids'].to(device)\n",
    "\n",
    "      outputs = model(\n",
    "        input_ids=input_ids,\n",
    "        attention_mask=attention_mask,\n",
    "        token_type_ids=token_type_ids\n",
    "      )\n",
    "\n",
    "      probs = torch.sigmoid(outputs)\n",
    "      preds = probs.ge(0.5).view(-1)\n",
    "      predictions.extend(preds)\n",
    "      prediction_probs.extend(probs)\n",
    "      real_values.extend(targets)\n",
    "\n",
    "  predictions = torch.stack(predictions).cpu()\n",
    "  prediction_probs = torch.stack(prediction_probs).cpu()\n",
    "  real_values = torch.stack(real_values).cpu()\n",
    "  return predictions, prediction_probs, real_values"
   ]
  },
  {
   "cell_type": "code",
   "execution_count": null,
   "metadata": {
    "colab": {},
    "colab_type": "code",
    "id": "oS4pYVarOYJY"
   },
   "outputs": [],
   "source": [
    "y_pred, y_pred_probs, y_test = get_predictions(\n",
    "  weekendmodel,\n",
    "  test_data_loader\n",
    ")"
   ]
  },
  {
   "cell_type": "code",
   "execution_count": null,
   "metadata": {},
   "outputs": [],
   "source": [
    "print(classification_report(y_test, y_pred, target_names=['1','0']))"
   ]
  },
  {
   "cell_type": "code",
   "execution_count": null,
   "metadata": {
    "colab": {},
    "colab_type": "code",
    "id": "dBSKvXlDOmNY"
   },
   "outputs": [],
   "source": [
    "def show_confusion_matrix(confusion_matrix):\n",
    "  hmap = sns.heatmap(confusion_matrix, annot=True, fmt=\"d\", cmap=\"Blues\")\n",
    "  hmap.yaxis.set_ticklabels(hmap.yaxis.get_ticklabels(), rotation=0, ha='right')\n",
    "  hmap.xaxis.set_ticklabels(hmap.xaxis.get_ticklabels(), rotation=30, ha='right')\n",
    "  plt.ylabel('True Weekend')\n",
    "  plt.xlabel('Predicted sentiment');\n",
    "\n",
    "cm = confusion_matrix(y_test, y_pred)\n",
    "df_cm = pd.DataFrame(cm, index=['1','0'], columns=['1','0'])\n",
    "show_confusion_matrix(df_cm)"
   ]
  }
 ],
 "metadata": {
  "accelerator": "GPU",
  "colab": {
   "collapsed_sections": [
    "x3l3PytbODpu",
    "9Yd-Tx3PI2Nr",
    "CogYsPzDcelA",
    "IE3M5t35H3Ao",
    "0FYrzQVXDp9_"
   ],
   "name": "V5.ipynb",
   "provenance": []
  },
  "kernelspec": {
   "display_name": "Python 3",
   "language": "python",
   "name": "python3"
  },
  "language_info": {
   "codemirror_mode": {
    "name": "ipython",
    "version": 3
   },
   "file_extension": ".py",
   "mimetype": "text/x-python",
   "name": "python",
   "nbconvert_exporter": "python",
   "pygments_lexer": "ipython3",
   "version": "3.7.6"
  }
 },
 "nbformat": 4,
 "nbformat_minor": 4
}
